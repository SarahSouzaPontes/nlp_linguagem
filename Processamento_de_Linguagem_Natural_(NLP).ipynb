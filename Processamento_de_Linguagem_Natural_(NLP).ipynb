{
  "cells": [
    {
      "cell_type": "markdown",
      "metadata": {
        "id": "view-in-github",
        "colab_type": "text"
      },
      "source": [
        "<a href=\"https://colab.research.google.com/github/SarahSouzaPontes/nlp_linguagem/blob/main/Processamento_de_Linguagem_Natural_(NLP).ipynb\" target=\"_parent\"><img src=\"https://colab.research.google.com/assets/colab-badge.svg\" alt=\"Open In Colab\"/></a>"
      ]
    },
    {
      "cell_type": "code",
      "source": [
        "!pip install spacy == 2.2.3"
      ],
      "metadata": {
        "id": "tfZYCwfq9Fs-",
        "outputId": "f58e901b-e458-46ef-9f4f-1512f0bc8ff4",
        "colab": {
          "base_uri": "https://localhost:8080/"
        }
      },
      "execution_count": 1,
      "outputs": [
        {
          "output_type": "stream",
          "name": "stdout",
          "text": [
            "\u001b[31mERROR: Invalid requirement: '=='\u001b[0m\u001b[31m\n",
            "\u001b[0m"
          ]
        }
      ]
    },
    {
      "cell_type": "code",
      "source": [
        "# Instala o pacote PT-BR\n",
        "\n",
        "!python3 -m spacy download pt"
      ],
      "metadata": {
        "id": "JbriBJ0u9HTh",
        "outputId": "6d12752e-316c-45dc-b965-905740cee548",
        "colab": {
          "base_uri": "https://localhost:8080/"
        }
      },
      "execution_count": 2,
      "outputs": [
        {
          "output_type": "stream",
          "name": "stdout",
          "text": [
            "2023-05-28 02:54:26.617021: I tensorflow/core/platform/cpu_feature_guard.cc:182] This TensorFlow binary is optimized to use available CPU instructions in performance-critical operations.\n",
            "To enable the following instructions: AVX2 FMA, in other operations, rebuild TensorFlow with the appropriate compiler flags.\n",
            "2023-05-28 02:54:30.376775: W tensorflow/compiler/tf2tensorrt/utils/py_utils.cc:38] TF-TRT Warning: Could not find TensorRT\n",
            "\u001b[38;5;3m⚠ As of spaCy v3.0, shortcuts like 'pt' are deprecated. Please use the\n",
            "full pipeline package name 'pt_core_news_sm' instead.\u001b[0m\n",
            "Looking in indexes: https://pypi.org/simple, https://us-python.pkg.dev/colab-wheels/public/simple/\n",
            "Collecting pt-core-news-sm==3.5.0\n",
            "  Downloading https://github.com/explosion/spacy-models/releases/download/pt_core_news_sm-3.5.0/pt_core_news_sm-3.5.0-py3-none-any.whl (13.0 MB)\n",
            "\u001b[2K     \u001b[90m━━━━━━━━━━━━━━━━━━━━━━━━━━━━━━━━━━━━━━━━\u001b[0m \u001b[32m13.0/13.0 MB\u001b[0m \u001b[31m49.3 MB/s\u001b[0m eta \u001b[36m0:00:00\u001b[0m\n",
            "\u001b[?25hRequirement already satisfied: spacy<3.6.0,>=3.5.0 in /usr/local/lib/python3.10/dist-packages (from pt-core-news-sm==3.5.0) (3.5.2)\n",
            "Requirement already satisfied: spacy-legacy<3.1.0,>=3.0.11 in /usr/local/lib/python3.10/dist-packages (from spacy<3.6.0,>=3.5.0->pt-core-news-sm==3.5.0) (3.0.12)\n",
            "Requirement already satisfied: spacy-loggers<2.0.0,>=1.0.0 in /usr/local/lib/python3.10/dist-packages (from spacy<3.6.0,>=3.5.0->pt-core-news-sm==3.5.0) (1.0.4)\n",
            "Requirement already satisfied: murmurhash<1.1.0,>=0.28.0 in /usr/local/lib/python3.10/dist-packages (from spacy<3.6.0,>=3.5.0->pt-core-news-sm==3.5.0) (1.0.9)\n",
            "Requirement already satisfied: cymem<2.1.0,>=2.0.2 in /usr/local/lib/python3.10/dist-packages (from spacy<3.6.0,>=3.5.0->pt-core-news-sm==3.5.0) (2.0.7)\n",
            "Requirement already satisfied: preshed<3.1.0,>=3.0.2 in /usr/local/lib/python3.10/dist-packages (from spacy<3.6.0,>=3.5.0->pt-core-news-sm==3.5.0) (3.0.8)\n",
            "Requirement already satisfied: thinc<8.2.0,>=8.1.8 in /usr/local/lib/python3.10/dist-packages (from spacy<3.6.0,>=3.5.0->pt-core-news-sm==3.5.0) (8.1.9)\n",
            "Requirement already satisfied: wasabi<1.2.0,>=0.9.1 in /usr/local/lib/python3.10/dist-packages (from spacy<3.6.0,>=3.5.0->pt-core-news-sm==3.5.0) (1.1.1)\n",
            "Requirement already satisfied: srsly<3.0.0,>=2.4.3 in /usr/local/lib/python3.10/dist-packages (from spacy<3.6.0,>=3.5.0->pt-core-news-sm==3.5.0) (2.4.6)\n",
            "Requirement already satisfied: catalogue<2.1.0,>=2.0.6 in /usr/local/lib/python3.10/dist-packages (from spacy<3.6.0,>=3.5.0->pt-core-news-sm==3.5.0) (2.0.8)\n",
            "Requirement already satisfied: typer<0.8.0,>=0.3.0 in /usr/local/lib/python3.10/dist-packages (from spacy<3.6.0,>=3.5.0->pt-core-news-sm==3.5.0) (0.7.0)\n",
            "Requirement already satisfied: pathy>=0.10.0 in /usr/local/lib/python3.10/dist-packages (from spacy<3.6.0,>=3.5.0->pt-core-news-sm==3.5.0) (0.10.1)\n",
            "Requirement already satisfied: smart-open<7.0.0,>=5.2.1 in /usr/local/lib/python3.10/dist-packages (from spacy<3.6.0,>=3.5.0->pt-core-news-sm==3.5.0) (6.3.0)\n",
            "Requirement already satisfied: tqdm<5.0.0,>=4.38.0 in /usr/local/lib/python3.10/dist-packages (from spacy<3.6.0,>=3.5.0->pt-core-news-sm==3.5.0) (4.65.0)\n",
            "Requirement already satisfied: numpy>=1.15.0 in /usr/local/lib/python3.10/dist-packages (from spacy<3.6.0,>=3.5.0->pt-core-news-sm==3.5.0) (1.22.4)\n",
            "Requirement already satisfied: requests<3.0.0,>=2.13.0 in /usr/local/lib/python3.10/dist-packages (from spacy<3.6.0,>=3.5.0->pt-core-news-sm==3.5.0) (2.27.1)\n",
            "Requirement already satisfied: pydantic!=1.8,!=1.8.1,<1.11.0,>=1.7.4 in /usr/local/lib/python3.10/dist-packages (from spacy<3.6.0,>=3.5.0->pt-core-news-sm==3.5.0) (1.10.7)\n",
            "Requirement already satisfied: jinja2 in /usr/local/lib/python3.10/dist-packages (from spacy<3.6.0,>=3.5.0->pt-core-news-sm==3.5.0) (3.1.2)\n",
            "Requirement already satisfied: setuptools in /usr/local/lib/python3.10/dist-packages (from spacy<3.6.0,>=3.5.0->pt-core-news-sm==3.5.0) (67.7.2)\n",
            "Requirement already satisfied: packaging>=20.0 in /usr/local/lib/python3.10/dist-packages (from spacy<3.6.0,>=3.5.0->pt-core-news-sm==3.5.0) (23.1)\n",
            "Requirement already satisfied: langcodes<4.0.0,>=3.2.0 in /usr/local/lib/python3.10/dist-packages (from spacy<3.6.0,>=3.5.0->pt-core-news-sm==3.5.0) (3.3.0)\n",
            "Requirement already satisfied: typing-extensions>=4.2.0 in /usr/local/lib/python3.10/dist-packages (from pydantic!=1.8,!=1.8.1,<1.11.0,>=1.7.4->spacy<3.6.0,>=3.5.0->pt-core-news-sm==3.5.0) (4.5.0)\n",
            "Requirement already satisfied: urllib3<1.27,>=1.21.1 in /usr/local/lib/python3.10/dist-packages (from requests<3.0.0,>=2.13.0->spacy<3.6.0,>=3.5.0->pt-core-news-sm==3.5.0) (1.26.15)\n",
            "Requirement already satisfied: certifi>=2017.4.17 in /usr/local/lib/python3.10/dist-packages (from requests<3.0.0,>=2.13.0->spacy<3.6.0,>=3.5.0->pt-core-news-sm==3.5.0) (2022.12.7)\n",
            "Requirement already satisfied: charset-normalizer~=2.0.0 in /usr/local/lib/python3.10/dist-packages (from requests<3.0.0,>=2.13.0->spacy<3.6.0,>=3.5.0->pt-core-news-sm==3.5.0) (2.0.12)\n",
            "Requirement already satisfied: idna<4,>=2.5 in /usr/local/lib/python3.10/dist-packages (from requests<3.0.0,>=2.13.0->spacy<3.6.0,>=3.5.0->pt-core-news-sm==3.5.0) (3.4)\n",
            "Requirement already satisfied: blis<0.8.0,>=0.7.8 in /usr/local/lib/python3.10/dist-packages (from thinc<8.2.0,>=8.1.8->spacy<3.6.0,>=3.5.0->pt-core-news-sm==3.5.0) (0.7.9)\n",
            "Requirement already satisfied: confection<1.0.0,>=0.0.1 in /usr/local/lib/python3.10/dist-packages (from thinc<8.2.0,>=8.1.8->spacy<3.6.0,>=3.5.0->pt-core-news-sm==3.5.0) (0.0.4)\n",
            "Requirement already satisfied: click<9.0.0,>=7.1.1 in /usr/local/lib/python3.10/dist-packages (from typer<0.8.0,>=0.3.0->spacy<3.6.0,>=3.5.0->pt-core-news-sm==3.5.0) (8.1.3)\n",
            "Requirement already satisfied: MarkupSafe>=2.0 in /usr/local/lib/python3.10/dist-packages (from jinja2->spacy<3.6.0,>=3.5.0->pt-core-news-sm==3.5.0) (2.1.2)\n",
            "Installing collected packages: pt-core-news-sm\n",
            "Successfully installed pt-core-news-sm-3.5.0\n",
            "\u001b[38;5;2m✔ Download and installation successful\u001b[0m\n",
            "You can now load the package via spacy.load('pt_core_news_sm')\n"
          ]
        }
      ]
    },
    {
      "cell_type": "code",
      "source": [
        "# Importa as bibliotecas necessárias\n",
        "\n",
        "import spacy\n",
        "import pandas as pd\n",
        "import string\n",
        "import random\n",
        "import seaborn as sns\n",
        "import numpy as np"
      ],
      "metadata": {
        "id": "P_7jRFuS9a3H"
      },
      "execution_count": 3,
      "outputs": []
    },
    {
      "cell_type": "code",
      "source": [
        "# Este código foi desenvolvido com a versão 3.5.2 do spaCy\n",
        "\n",
        "spacy.__version__"
      ],
      "metadata": {
        "id": "BgpqHQ2a9gPw",
        "outputId": "801f5b87-64e8-4c77-e5c1-55be85cd44e6",
        "colab": {
          "base_uri": "https://localhost:8080/",
          "height": 35
        }
      },
      "execution_count": 4,
      "outputs": [
        {
          "output_type": "execute_result",
          "data": {
            "text/plain": [
              "'3.5.2'"
            ],
            "application/vnd.google.colaboratory.intrinsic+json": {
              "type": "string"
            }
          },
          "metadata": {},
          "execution_count": 4
        }
      ]
    },
    {
      "cell_type": "code",
      "source": [
        "#Carregando dataset -> Kaggle\n",
        "import os\n",
        "for dirname, _, filenames in os.walk('/kaggle/input'):\n",
        "    for filename in filenames:\n",
        "        print(os.path.join(dirname, filename))"
      ],
      "metadata": {
        "id": "JDTRtJ4-9r2h"
      },
      "execution_count": 5,
      "outputs": []
    },
    {
      "cell_type": "code",
      "source": [
        "from google.colab import drive\n",
        "drive.mount('/content/drive')"
      ],
      "metadata": {
        "id": "IUlefD6b97XN",
        "outputId": "947ab134-a80e-4db3-d8e9-7380f3ccd607",
        "colab": {
          "base_uri": "https://localhost:8080/"
        }
      },
      "execution_count": 6,
      "outputs": [
        {
          "output_type": "stream",
          "name": "stdout",
          "text": [
            "Mounted at /content/drive\n"
          ]
        }
      ]
    },
    {
      "cell_type": "code",
      "source": [
        "# Carrega a base de treinamento\n",
        "\n",
        "base_treinamento = pd.read_csv('/content/base_treinamento.txt')\n",
        "base_treinamento.head()\n",
        "\n"
      ],
      "metadata": {
        "colab": {
          "base_uri": "https://localhost:8080/",
          "height": 206
        },
        "id": "fVgPpNNy-at2",
        "outputId": "438e3a9e-7317-4668-b016-dc1484216198"
      },
      "execution_count": 9,
      "outputs": [
        {
          "output_type": "execute_result",
          "data": {
            "text/plain": [
              "                             texto    emocao\n",
              "0        este trabalho é agradável  positivo\n",
              "1  gosto de ficar no seu aconchego  positivo\n",
              "2       fiz a adesão ao curso hoje  positivo\n",
              "3       eu sou admirada por muitos  positivo\n",
              "4                  adoro como você  positivo"
            ],
            "text/html": [
              "\n",
              "  <div id=\"df-cfeceb7b-a270-48ca-85fc-c7d1fbe6f36e\">\n",
              "    <div class=\"colab-df-container\">\n",
              "      <div>\n",
              "<style scoped>\n",
              "    .dataframe tbody tr th:only-of-type {\n",
              "        vertical-align: middle;\n",
              "    }\n",
              "\n",
              "    .dataframe tbody tr th {\n",
              "        vertical-align: top;\n",
              "    }\n",
              "\n",
              "    .dataframe thead th {\n",
              "        text-align: right;\n",
              "    }\n",
              "</style>\n",
              "<table border=\"1\" class=\"dataframe\">\n",
              "  <thead>\n",
              "    <tr style=\"text-align: right;\">\n",
              "      <th></th>\n",
              "      <th>texto</th>\n",
              "      <th>emocao</th>\n",
              "    </tr>\n",
              "  </thead>\n",
              "  <tbody>\n",
              "    <tr>\n",
              "      <th>0</th>\n",
              "      <td>este trabalho é agradável</td>\n",
              "      <td>positivo</td>\n",
              "    </tr>\n",
              "    <tr>\n",
              "      <th>1</th>\n",
              "      <td>gosto de ficar no seu aconchego</td>\n",
              "      <td>positivo</td>\n",
              "    </tr>\n",
              "    <tr>\n",
              "      <th>2</th>\n",
              "      <td>fiz a adesão ao curso hoje</td>\n",
              "      <td>positivo</td>\n",
              "    </tr>\n",
              "    <tr>\n",
              "      <th>3</th>\n",
              "      <td>eu sou admirada por muitos</td>\n",
              "      <td>positivo</td>\n",
              "    </tr>\n",
              "    <tr>\n",
              "      <th>4</th>\n",
              "      <td>adoro como você</td>\n",
              "      <td>positivo</td>\n",
              "    </tr>\n",
              "  </tbody>\n",
              "</table>\n",
              "</div>\n",
              "      <button class=\"colab-df-convert\" onclick=\"convertToInteractive('df-cfeceb7b-a270-48ca-85fc-c7d1fbe6f36e')\"\n",
              "              title=\"Convert this dataframe to an interactive table.\"\n",
              "              style=\"display:none;\">\n",
              "        \n",
              "  <svg xmlns=\"http://www.w3.org/2000/svg\" height=\"24px\"viewBox=\"0 0 24 24\"\n",
              "       width=\"24px\">\n",
              "    <path d=\"M0 0h24v24H0V0z\" fill=\"none\"/>\n",
              "    <path d=\"M18.56 5.44l.94 2.06.94-2.06 2.06-.94-2.06-.94-.94-2.06-.94 2.06-2.06.94zm-11 1L8.5 8.5l.94-2.06 2.06-.94-2.06-.94L8.5 2.5l-.94 2.06-2.06.94zm10 10l.94 2.06.94-2.06 2.06-.94-2.06-.94-.94-2.06-.94 2.06-2.06.94z\"/><path d=\"M17.41 7.96l-1.37-1.37c-.4-.4-.92-.59-1.43-.59-.52 0-1.04.2-1.43.59L10.3 9.45l-7.72 7.72c-.78.78-.78 2.05 0 2.83L4 21.41c.39.39.9.59 1.41.59.51 0 1.02-.2 1.41-.59l7.78-7.78 2.81-2.81c.8-.78.8-2.07 0-2.86zM5.41 20L4 18.59l7.72-7.72 1.47 1.35L5.41 20z\"/>\n",
              "  </svg>\n",
              "      </button>\n",
              "      \n",
              "  <style>\n",
              "    .colab-df-container {\n",
              "      display:flex;\n",
              "      flex-wrap:wrap;\n",
              "      gap: 12px;\n",
              "    }\n",
              "\n",
              "    .colab-df-convert {\n",
              "      background-color: #E8F0FE;\n",
              "      border: none;\n",
              "      border-radius: 50%;\n",
              "      cursor: pointer;\n",
              "      display: none;\n",
              "      fill: #1967D2;\n",
              "      height: 32px;\n",
              "      padding: 0 0 0 0;\n",
              "      width: 32px;\n",
              "    }\n",
              "\n",
              "    .colab-df-convert:hover {\n",
              "      background-color: #E2EBFA;\n",
              "      box-shadow: 0px 1px 2px rgba(60, 64, 67, 0.3), 0px 1px 3px 1px rgba(60, 64, 67, 0.15);\n",
              "      fill: #174EA6;\n",
              "    }\n",
              "\n",
              "    [theme=dark] .colab-df-convert {\n",
              "      background-color: #3B4455;\n",
              "      fill: #D2E3FC;\n",
              "    }\n",
              "\n",
              "    [theme=dark] .colab-df-convert:hover {\n",
              "      background-color: #434B5C;\n",
              "      box-shadow: 0px 1px 3px 1px rgba(0, 0, 0, 0.15);\n",
              "      filter: drop-shadow(0px 1px 2px rgba(0, 0, 0, 0.3));\n",
              "      fill: #FFFFFF;\n",
              "    }\n",
              "  </style>\n",
              "\n",
              "      <script>\n",
              "        const buttonEl =\n",
              "          document.querySelector('#df-cfeceb7b-a270-48ca-85fc-c7d1fbe6f36e button.colab-df-convert');\n",
              "        buttonEl.style.display =\n",
              "          google.colab.kernel.accessAllowed ? 'block' : 'none';\n",
              "\n",
              "        async function convertToInteractive(key) {\n",
              "          const element = document.querySelector('#df-cfeceb7b-a270-48ca-85fc-c7d1fbe6f36e');\n",
              "          const dataTable =\n",
              "            await google.colab.kernel.invokeFunction('convertToInteractive',\n",
              "                                                     [key], {});\n",
              "          if (!dataTable) return;\n",
              "\n",
              "          const docLinkHtml = 'Like what you see? Visit the ' +\n",
              "            '<a target=\"_blank\" href=https://colab.research.google.com/notebooks/data_table.ipynb>data table notebook</a>'\n",
              "            + ' to learn more about interactive tables.';\n",
              "          element.innerHTML = '';\n",
              "          dataTable['output_type'] = 'display_data';\n",
              "          await google.colab.output.renderOutput(dataTable, element);\n",
              "          const docLink = document.createElement('div');\n",
              "          docLink.innerHTML = docLinkHtml;\n",
              "          element.appendChild(docLink);\n",
              "        }\n",
              "      </script>\n",
              "    </div>\n",
              "  </div>\n",
              "  "
            ]
          },
          "metadata": {},
          "execution_count": 9
        }
      ]
    },
    {
      "cell_type": "code",
      "source": [
        "import seaborn as sns\n",
        "\n",
        "# Conta os valores únicos na coluna 'emocao'\n",
        "contagem_emocao = base_treinamento['emocao'].value_counts()\n",
        "\n",
        "# Plota a distribuição dos dados da variável 'emocao'\n",
        "sns.countplot(data=base_treinamento, x='emocao', order=contagem_emocao.index)"
      ],
      "metadata": {
        "id": "j8tQmHSWBLnL",
        "outputId": "0e2e3475-ecdb-410c-e69c-62a7ad8f8b9d",
        "colab": {
          "base_uri": "https://localhost:8080/",
          "height": 466
        }
      },
      "execution_count": 10,
      "outputs": [
        {
          "output_type": "execute_result",
          "data": {
            "text/plain": [
              "<Axes: xlabel='emocao', ylabel='count'>"
            ]
          },
          "metadata": {},
          "execution_count": 10
        },
        {
          "output_type": "display_data",
          "data": {
            "text/plain": [
              "<Figure size 640x480 with 1 Axes>"
            ],
            "image/png": "[encoded data removed]"
          },
          "metadata": {}
        }
      ]
    },
    {
      "cell_type": "code",
      "source": [
        "#Pre-processamento\n",
        "# Instancia a variável pontuacoes\n",
        "\n",
        "pontuacoes = string.punctuation\n",
        "pontuacoes"
      ],
      "metadata": {
        "id": "cMgUvfjG-mR6",
        "outputId": "0b89c19b-67da-4fe0-f70b-bbeaf5676410",
        "colab": {
          "base_uri": "https://localhost:8080/",
          "height": 35
        }
      },
      "execution_count": 11,
      "outputs": [
        {
          "output_type": "execute_result",
          "data": {
            "text/plain": [
              "'!\"#$%&\\'()*+,-./:;<=>?@[\\\\]^_`{|}~'"
            ],
            "application/vnd.google.colaboratory.intrinsic+json": {
              "type": "string"
            }
          },
          "metadata": {},
          "execution_count": 11
        }
      ]
    },
    {
      "cell_type": "code",
      "source": [
        "# Instancia a variável stop_words\n",
        "\n",
        "from spacy.lang.pt.stop_words import STOP_WORDS\n",
        "stop_words = STOP_WORDS\n",
        "print(stop_words)"
      ],
      "metadata": {
        "id": "KlTNOVqPBhD4",
        "outputId": "a3cb5c1b-a2e2-492a-bfac-d375eef3861d",
        "colab": {
          "base_uri": "https://localhost:8080/"
        }
      },
      "execution_count": 12,
      "outputs": [
        {
          "output_type": "stream",
          "name": "stdout",
          "text": [
            "{'quinto', 'toda', 'pegar', 'deste', 'demais', 'fará', 'quando', 'porquanto', 'vez', 'quem', 'dessa', 'conhecida', 'vais', 'naquele', 'sétimo', 'vosso', 'umas', 'se', 'põe', 'fazeis', 'inclusive', 'primeira', 'nos', 'és', 'ponto', 'cinco', 'sois', 'três', 'nossas', 'algo', 'fim', 'menor', 'todos', 'vossa', 'menos', 'alguns', 'nas', 'dizem', 'isto', 'querem', 'nunca', 'elas', 'meus', 'todo', 'ela', 'foste', 'saber', 'parte', 'eles', 'assim', 'ir', 'quer', 'antes', 'apenas', 'é', 'for', 'tu', 'tiveste', 'com', 'ser', 'após', 'nesta', 'aí', 'dezanove', 'maioria', 'à', 'era', 'às', 'dezasseis', 'aqui', 'onze', 'aquela', 'ademais', 'logo', 'tais', 'relação', 'os', 'estiveram', 'zero', 'quieto', 'pois', 'aos', 'podem', 'local', 'pontos', 'apoia', 'dão', 'vinda', 'do', 'porquê', 'mesmo', 'fui', 'sim', 'corrente', 'fora', 'sexto', 'cento', 'estar', 'qualquer', 'somente', 'falta', 'apontar', 'coisa', 'desde', 'nessa', 'sabe', 'iniciar', 'dos', 'estado', 'essas', 'grupo', 'quarto', 'pelas', 'tua', 'quinta', 'usar', 'dá', 'questão', 'cujo', 'estive', 'maiorias', 'estiveste', 'quinze', 'custa', 'tive', 'fostes', 'pouca', 'novas', 'deve', 'já', 'muitos', 'puderam', 'certeza', 'nem', 'vossas', 'porque', 'oitava', 'que', 'diz', 'tem', 'sob', 'me', 'próximo', 'e', 'estava', 'não', 'vai', 'último', 'nuns', 'quero', 'sétima', 'a', 'fazes', 'ambos', 'um', 'tenho', 'sei', 'terceiro', 'seu', 'estivemos', 'diante', 'lugar', 'maior', 'ter', 'geral', 'embora', 'temos', 'sou', 'porém', 'vem', 'dez', 'poderá', 'dar', 'ambas', 'depois', 'vos', 'números', 'nada', 'pelo', 'todas', 'debaixo', 'de', 'desse', 'pela', 'mês', 'vocês', 'terceira', 'está', 'lado', 'dezassete', 'suas', 'segunda', 'pelos', 'pouco', 'grandes', 'dois', 'as', 'momento', 'enquanto', 'tão', 'segundo', 'estará', 'estivestes', 'meio', 'atrás', 'boa', 'sem', 'mas', 'ainda', 'aquilo', 'ora', 'para', 'fomos', 'dizer', 'caminho', 'nível', 'aquele', 'eu', 'foi', 'tempo', 'apoio', 'favor', 'povo', 'muito', 'cada', 'área', 'sete', 'veja', 'adeus', 'bem', 'da', 'cá', 'entre', 'conhecido', 'daquela', 'fazer', 'possivelmente', 'tipo', 'sexta', 'seus', 'numa', 'comprida', 'pode', 'através', 'vêm', 'fez', 'esteve', 'neste', 'poder', 'oito', 'estás', 'vens', 'posso', 'des', 'este', 'esses', 'dezoito', 'possível', 'máximo', 'no', 'mil', 'outra', 'tivemos', 'comprido', 'ontem', 'nossa', 'uns', 'ele', 'talvez', 'somos', 'lhe', 'contudo', 'novo', 'quais', 'sua', 'tanta', 'quarta', 'quatro', 'final', 'grande', 'você', 'contra', 'faz', 'cima', 'ali', 'num', 'tudo', 'te', 'usa', 'até', 'tentaram', 'ou', 'número', 'tens', 'algumas', 'fazem', 'tente', 'daquele', 'como', 'próprio', 'direita', 'tentar', 'valor', 'próxima', 'sempre', 'inicio', 'minhas', 'nove', 'uma', 'tivestes', 'eventual', 'quanto', 'fazemos', 'tal', 'esta', 'sistema', 'na', 'tuas', 'tanto', 'desta', 'doze', 'além', 'deverá', 'irá', 'vós', 'mal', 'dentro', 'portanto', 'agora', 'estão', 'vários', 'acerca', 'então', 'bastante', 'outras', 'fazia', 'conselho', 'seria', 'devem', 'minha', 'nova', 'qual', 'vossos', 'estou', 'teve', 'ver', 'perto', 'nosso', 'têm', 'vezes', 'certamente', 'forma', 'novos', 'tendes', 'meu', 'são', 'parece', 'faço', 'das', 'partir', 'quê', 'pôde', 'posição', 'também', 'obrigado', 'duas', 'onde', 'longe', 'tiveram', 'obrigada', 'por', 'vão', 'seis', 'essa', 'bom', 'só', 'cuja', 'treze', 'oitavo', 'vindo', 'nenhuma', 'catorze', 'vinte', 'lá', 'tarde', 'meses', 'mais', 'quieta', 'baixo', 'outros', 'exemplo', 'estas', 'foram', 'o', 'ligado', 'ao', 'nós', 'tentei', 'esse', 'aqueles', 'teu', 'podia', 'primeiro', 'isso', 'em', 'estes', 'nossos', 'teus', 'nesse', 'põem', 'breve', 'cedo', 'disso', 'aquelas', 'naquela', 'sobre'}\n"
          ]
        }
      ]
    },
    {
      "cell_type": "code",
      "source": [
        "import spacy\n",
        "\n",
        "# Carrega o modelo 'pt_core_news_sm'\n",
        "pln = spacy.load(\"pt_core_news_sm\")"
      ],
      "metadata": {
        "id": "qLH2VKzIBpLk"
      },
      "execution_count": 13,
      "outputs": []
    },
    {
      "cell_type": "code",
      "source": [
        "import spacy\n",
        "\n",
        "# Carrega o modelo 'pt_core_news_sm'\n",
        "nlp = spacy.load(\"pt_core_news_sm\")\n",
        "\n",
        "# Definição da função de pré-processamento\n",
        "def preprocessamento(texto):\n",
        "    # Converte o texto para letras minúsculas\n",
        "    texto = texto.lower()\n",
        "\n",
        "    # Passa o texto pelo processador de linguagem natural\n",
        "    documento = nlp(texto)\n",
        "\n",
        "    # Cria uma lista vazia para armazenar os tokens processados\n",
        "    lista = []\n",
        "\n",
        "    # Itera sobre cada token no documento processado\n",
        "    for token in documento:\n",
        "        # Adiciona o lema de cada token à lista\n",
        "        lista.append(token.lemma_)\n",
        "\n",
        "    # Remove as palavras irrelevantes (stop words) e pontuações da lista\n",
        "    stop_words = []  # Defina sua lista de stop words aqui\n",
        "    pontuacoes = []  # Defina sua lista de pontuações aqui\n",
        "    lista = [palavra for palavra in lista if palavra not in stop_words and palavra not in pontuacoes]\n",
        "\n",
        "    # Junta os elementos da lista em uma única string, separados por espaços\n",
        "    lista = ' '.join([str(elemento) for elemento in lista if not elemento.isdigit()])\n",
        "\n",
        "    # Retorna a string resultante\n",
        "    return lista\n",
        "\n",
        "\n",
        "# Exemplo de uso da função de pré-processamento\n",
        "texto_exemplo = \"Este é um exemplo de texto para pré-processamento.\"\n",
        "texto_preprocessado = preprocessamento(texto_exemplo)\n",
        "print(texto_preprocessado)"
      ],
      "metadata": {
        "id": "h337N2XlEVNp",
        "outputId": "28c94adb-33bd-4fb0-925f-ad549e37f8cd",
        "colab": {
          "base_uri": "https://localhost:8080/"
        }
      },
      "execution_count": 14,
      "outputs": [
        {
          "output_type": "stream",
          "name": "stdout",
          "text": [
            "este ser um exemplo de texto para pré-processamento .\n"
          ]
        }
      ]
    },
    {
      "cell_type": "code",
      "source": [
        "teste = preprocessamento('meu nome é Sarah Pontes')\n",
        "teste"
      ],
      "metadata": {
        "id": "YgVT6o7xEq4z"
      },
      "execution_count": null,
      "outputs": []
    },
    {
      "cell_type": "code",
      "source": [
        "# Limpeza dos textos\n",
        "base_treinamento['texto'] = base_treinamento['texto'].apply(preprocessamento)\n",
        "\n",
        "# Exibição das primeiras 5 linhas da base de treinamento após a limpeza\n",
        "print(base_treinamento.head(5))"
      ],
      "metadata": {
        "id": "6SxAsNXMFKb_",
        "outputId": "c21686b3-70ec-4158-9802-37a880e5eb49",
        "colab": {
          "base_uri": "https://localhost:8080/"
        }
      },
      "execution_count": 16,
      "outputs": [
        {
          "output_type": "stream",
          "name": "stdout",
          "text": [
            "                               texto    emocao\n",
            "0        este trabalho ser agradável  positivo\n",
            "1  gosto de ficar em o seu aconchego  positivo\n",
            "2        fiz o adesão a o curso hoje  positivo\n",
            "3           eu ser admirar por muito  positivo\n",
            "4                   adorar como você  positivo\n"
          ]
        }
      ]
    },
    {
      "cell_type": "code",
      "source": [
        "# Tratamento das classes\n",
        "\n",
        "# Exemplo de base de dados\n",
        "exemplo_base_dados = [['este trabalho é agradável', {'POSITIVO': True, 'NEGATIVO': False}],\n",
        "                      ['este lugar continua assustador', {'NEGATIVO': True, 'POSITIVO': False}]]\n",
        "\n",
        "# O trecho de código acima representa uma base de dados fictícia composta por uma lista de exemplos.\n",
        "# Cada exemplo é uma lista que contém um texto e um dicionário de classes associadas ao texto.\n",
        "\n",
        "# A estrutura do dicionário de classes é {'CLASSE': VALOR}, onde 'CLASSE' é a classe atribuída ao texto e VALOR indica se a classe é verdadeira ou falsa.\n",
        "\n",
        "# Esse tipo de estrutura é comumente utilizado para treinamento de modelos de classificação, onde cada texto está associado a uma ou mais classes.\n",
        "\n",
        "# No exemplo acima, temos dois exemplos de texto com suas classes associadas:\n",
        "# - O primeiro texto \"este trabalho é agradável\" está associado às classes {'POSITIVO': True, 'NEGATIVO': False}, indicando que é um texto positivo.\n",
        "# - O segundo texto \"este lugar continua assustador\" está associado às classes {'NEGATIVO': True, 'POSITIVO': False}, indicando que é um texto negativo.\n",
        "\n",
        "# Esse tipo de estrutura é útil para tarefas de classificação de texto, onde é necessário atribuir uma ou mais classes a um determinado texto.\n",
        "\n",
        "# Você pode adaptar esse exemplo de base de dados de acordo com as suas necessidades, substituindo os textos e as classes pelos seus próprios dados."
      ],
      "metadata": {
        "id": "Okdq2Mg2F1UY"
      },
      "execution_count": 17,
      "outputs": []
    },
    {
      "cell_type": "code",
      "source": [
        "# Mapeia para cada valor de emoção e adiciona à lista as frases da base\n",
        "\n",
        "# Cria uma lista vazia para armazenar os dados finais da base\n",
        "base_dados_final = []\n",
        "\n",
        "# Itera sobre cada par de texto e emoção na base de treinamento\n",
        "for texto, emocao in zip(base_treinamento['texto'], base_treinamento['emocao']):\n",
        "    \n",
        "    # Verifica o valor da emoção e atribui o dicionário de classes correspondente\n",
        "    if emocao == 'positivo':\n",
        "        dic = {'POSITIVO': True, 'NEGATIVO': False}\n",
        "    elif emocao == 'negativo':\n",
        "        dic = {'POSITIVO': False, 'NEGATIVO': True}\n",
        "\n",
        "    # Cria uma nova lista com o texto e o dicionário de classes associado\n",
        "    base_dados_final.append([texto, dic.copy()])         \n",
        "\n",
        "# O trecho de código acima percorre a base de treinamento, que possui duas colunas: 'texto' e 'emocao'.\n",
        "# Para cada par de texto e emoção, ele realiza as seguintes etapas:\n",
        "\n",
        "# - Verifica o valor da emoção:\n",
        "#     - Se a emoção for 'positivo', atribui o dicionário de classes {'POSITIVO': True, 'NEGATIVO': False}.\n",
        "#     - Se a emoção for 'negativo', atribui o dicionário de classes {'POSITIVO': False, 'NEGATIVO': True}.\n",
        "\n",
        "# - Cria uma nova lista contendo o texto e o dicionário de classes associado.\n",
        "\n",
        "# - Adiciona a nova lista à lista base_dados_final.\n",
        "\n",
        "# Ao final da execução desse trecho de código, a lista base_dados_final estará preenchida com as frases da base de treinamento,\n",
        "# onde cada frase é acompanhada pelo seu dicionário de classes correspondente.\n",
        "\n",
        "# Certifique-se de ter uma base de treinamento válida, com as colunas 'texto' e 'emocao', antes de executar esse código."
      ],
      "metadata": {
        "id": "nWK50UfkGO1q"
      },
      "execution_count": 18,
      "outputs": []
    },
    {
      "cell_type": "code",
      "source": [
        "base_dados_final"
      ],
      "metadata": {
        "id": "SlFslctbGkpB",
        "outputId": "4c487d8c-8102-4378-b035-ae6589c37a63",
        "colab": {
          "base_uri": "https://localhost:8080/"
        }
      },
      "execution_count": 19,
      "outputs": [
        {
          "output_type": "execute_result",
          "data": {
            "text/plain": [
              "[['este trabalho ser agradável', {'POSITIVO': True, 'NEGATIVO': False}],\n",
              " ['gosto de ficar em o seu aconchego', {'POSITIVO': True, 'NEGATIVO': False}],\n",
              " ['fiz o adesão a o curso hoje', {'POSITIVO': True, 'NEGATIVO': False}],\n",
              " ['eu ser admirar por muito', {'POSITIVO': True, 'NEGATIVO': False}],\n",
              " ['adorar como você', {'POSITIVO': True, 'NEGATIVO': False}],\n",
              " ['adorar seu cabelo macio', {'POSITIVO': True, 'NEGATIVO': False}],\n",
              " ['adorar o cor de o seu olho', {'POSITIVO': True, 'NEGATIVO': False}],\n",
              " ['somo tão amável um com o outro', {'POSITIVO': True, 'NEGATIVO': False}],\n",
              " ['sinto um grande afeição por ele', {'POSITIVO': True, 'NEGATIVO': False}],\n",
              " ['querer agradar meu filho', {'POSITIVO': True, 'NEGATIVO': False}],\n",
              " ['eu sinto completamente amar', {'POSITIVO': True, 'NEGATIVO': False}],\n",
              " ['eu amo você', {'POSITIVO': True, 'NEGATIVO': False}],\n",
              " ['que grande alívio', {'POSITIVO': True, 'NEGATIVO': False}],\n",
              " ['o dor este amenizar finalmente', {'POSITIVO': True, 'NEGATIVO': False}],\n",
              " ['achar que eu apaixoneir', {'POSITIVO': True, 'NEGATIVO': False}],\n",
              " ['amar ser maravilhoso', {'POSITIVO': True, 'NEGATIVO': False}],\n",
              " ['estar eu sentir muito animar', {'POSITIVO': True, 'NEGATIVO': False}],\n",
              " ['eu sintar muito bem hoje', {'POSITIVO': True, 'NEGATIVO': False}],\n",
              " ['como ele luar ser belo', {'POSITIVO': True, 'NEGATIVO': False}],\n",
              " ['o dia este muito bonito', {'POSITIVO': True, 'NEGATIVO': False}],\n",
              " ['nosso como ser afortunar', {'POSITIVO': True, 'NEGATIVO': False}],\n",
              " ['o maravilha de o mundo', {'POSITIVO': True, 'NEGATIVO': False}],\n",
              " ['recebir muito carinho hoje de o meu colega',\n",
              "  {'POSITIVO': True, 'NEGATIVO': False}],\n",
              " ['estar eu sentir reconfortar hoje', {'POSITIVO': True, 'NEGATIVO': False}],\n",
              " ['ser muito bom estar com o amigo', {'POSITIVO': True, 'NEGATIVO': False}],\n",
              " ['estar muito contente com o resultado de o teste',\n",
              "  {'POSITIVO': True, 'NEGATIVO': False}],\n",
              " ['esse pintura este bem brilhante', {'POSITIVO': True, 'NEGATIVO': False}],\n",
              " ['ter água em abundância', {'POSITIVO': True, 'NEGATIVO': False}],\n",
              " ['que roupa delicado', {'POSITIVO': True, 'NEGATIVO': False}],\n",
              " ['você ser um grande comediante', {'POSITIVO': True, 'NEGATIVO': False}],\n",
              " ['que bondade o seu em vir aqui', {'POSITIVO': True, 'NEGATIVO': False}],\n",
              " ['o amor ser lir', {'POSITIVO': True, 'NEGATIVO': False}],\n",
              " ['nosso amizade ir durar para sempre', {'POSITIVO': True, 'NEGATIVO': False}],\n",
              " ['estar eufórico com o notícia', {'POSITIVO': True, 'NEGATIVO': False}],\n",
              " ['ele ser realmente fiel a eu', {'POSITIVO': True, 'NEGATIVO': False}],\n",
              " ['ir dar um grande festa para comemorar meu aniversário',\n",
              "  {'POSITIVO': True, 'NEGATIVO': False}],\n",
              " ['graças o deus que eu enxerguei o certo',\n",
              "  {'POSITIVO': True, 'NEGATIVO': False}],\n",
              " ['esse ser o bom escolha de todo', {'POSITIVO': True, 'NEGATIVO': False}],\n",
              " ['o mais incrível ser você meu belo', {'POSITIVO': True, 'NEGATIVO': False}],\n",
              " ['ser tão engraçado tentar explicar', {'POSITIVO': True, 'NEGATIVO': False}],\n",
              " ['ser emocionante estar em este lugar',\n",
              "  {'POSITIVO': True, 'NEGATIVO': False}],\n",
              " ['estar cativar por o seu olhar', {'POSITIVO': True, 'NEGATIVO': False}],\n",
              " ['estar loucamente apaixonar', {'POSITIVO': True, 'NEGATIVO': False}],\n",
              " ['eu nunca ter dúvida', {'POSITIVO': True, 'NEGATIVO': False}],\n",
              " ['estar rodear por o seu abraço', {'POSITIVO': True, 'NEGATIVO': False}],\n",
              " ['eu vejo estrela por o caminho', {'POSITIVO': True, 'NEGATIVO': False}],\n",
              " ['eu sintar o sol sempre que você este por perto',\n",
              "  {'POSITIVO': True, 'NEGATIVO': False}],\n",
              " ['eu estar sorrir de orelha o orelha', {'POSITIVO': True, 'NEGATIVO': False}],\n",
              " ['isso valer o pena', {'POSITIVO': True, 'NEGATIVO': False}],\n",
              " ['finalmente você colocar meu amor em primeiro lugar',\n",
              "  {'POSITIVO': True, 'NEGATIVO': False}],\n",
              " ['nós dançar noite adentro', {'POSITIVO': True, 'NEGATIVO': False}],\n",
              " ['seu amor ser brilhante', {'POSITIVO': True, 'NEGATIVO': False}],\n",
              " ['toquei muito coração durante o meu caminho',\n",
              "  {'POSITIVO': True, 'NEGATIVO': False}],\n",
              " ['eu ser seu amiga e companheiro', {'POSITIVO': True, 'NEGATIVO': False}],\n",
              " ['você eu trazer de volta o vida', {'POSITIVO': True, 'NEGATIVO': False}],\n",
              " ['você e como um sonho doce', {'POSITIVO': True, 'NEGATIVO': False}],\n",
              " ['adorar este doce de fruta', {'POSITIVO': True, 'NEGATIVO': False}],\n",
              " ['meu suco favorito', {'POSITIVO': True, 'NEGATIVO': False}],\n",
              " ['estar agradecido por o ajuda', {'POSITIVO': True, 'NEGATIVO': False}],\n",
              " ['ser um enorme prazer ter você em nosso equipe',\n",
              "  {'POSITIVO': True, 'NEGATIVO': False}],\n",
              " ['trabalhar em equipe ser o bom', {'POSITIVO': True, 'NEGATIVO': False}],\n",
              " ['eu sinto flutuar em o ar', {'POSITIVO': True, 'NEGATIVO': False}],\n",
              " ['o brisa este agradável hoje', {'POSITIVO': True, 'NEGATIVO': False}],\n",
              " ['bom e compatível', {'POSITIVO': True, 'NEGATIVO': False}],\n",
              " ['ser compatível um com o outro', {'POSITIVO': True, 'NEGATIVO': False}],\n",
              " ['o órgão ser compatível com o paciente',\n",
              "  {'POSITIVO': True, 'NEGATIVO': False}],\n",
              " ['estar contente ser aceitar em o faculdade',\n",
              "  {'POSITIVO': True, 'NEGATIVO': False}],\n",
              " ['ser aprovar em o meu exame', {'POSITIVO': True, 'NEGATIVO': False}],\n",
              " ['ser beneficiar por o meu empresa', {'POSITIVO': True, 'NEGATIVO': False}],\n",
              " ['eu ser muito cativante', {'POSITIVO': True, 'NEGATIVO': False}],\n",
              " ['estar contente com o apoio', {'POSITIVO': True, 'NEGATIVO': False}],\n",
              " ['como este lugar e confortável', {'POSITIVO': True, 'NEGATIVO': False}],\n",
              " ['e bom estar quente em este frio', {'POSITIVO': True, 'NEGATIVO': False}],\n",
              " ['um elogio nunca e demais', {'POSITIVO': True, 'NEGATIVO': False}],\n",
              " ['ir te chamar para comemorar', {'POSITIVO': True, 'NEGATIVO': False}],\n",
              " ['ser desejável o seu presença em nosso apresentação',\n",
              "  {'POSITIVO': True, 'NEGATIVO': False}],\n",
              " ['ser muito gratar a você', {'POSITIVO': True, 'NEGATIVO': False}],\n",
              " ['eu dedico muito em aquilo que fazer',\n",
              "  {'POSITIVO': True, 'NEGATIVO': False}],\n",
              " ['estar completamente apaixonar', {'POSITIVO': True, 'NEGATIVO': False}],\n",
              " ['ir agitar esse noite', {'POSITIVO': True, 'NEGATIVO': False}],\n",
              " ['você significar muito para eu', {'POSITIVO': True, 'NEGATIVO': False}],\n",
              " ['ir agir sem preconceito e julgamento',\n",
              "  {'POSITIVO': True, 'NEGATIVO': False}],\n",
              " ['finalmente completar o meu coleção maravilhoso',\n",
              "  {'POSITIVO': True, 'NEGATIVO': False}],\n",
              " ['eu ser seu rainha', {'POSITIVO': True, 'NEGATIVO': False}],\n",
              " ['satisfatoriamente eu anunciar o vencedor de o jogo',\n",
              "  {'POSITIVO': True, 'NEGATIVO': False}],\n",
              " ['você eu atrair facilmente', {'POSITIVO': True, 'NEGATIVO': False}],\n",
              " ['aquele rapaz e extremamente atraente',\n",
              "  {'POSITIVO': True, 'NEGATIVO': False}],\n",
              " ['sinto-me viver', {'POSITIVO': True, 'NEGATIVO': False}],\n",
              " ['sinto-me em paz', {'POSITIVO': True, 'NEGATIVO': False}],\n",
              " ['estar ter muito lucro', {'POSITIVO': True, 'NEGATIVO': False}],\n",
              " ['muito bem este tudo em ordem agora', {'POSITIVO': True, 'NEGATIVO': False}],\n",
              " ['poder arrumar um emprego junto', {'POSITIVO': True, 'NEGATIVO': False}],\n",
              " ['o arrumação este terminada que alívio',\n",
              "  {'POSITIVO': True, 'NEGATIVO': False}],\n",
              " ['o câncer ser benigno', {'POSITIVO': True, 'NEGATIVO': False}],\n",
              " ['o amor ser abundante', {'POSITIVO': True, 'NEGATIVO': False}],\n",
              " ['ir ser caridoso este natal', {'POSITIVO': True, 'NEGATIVO': False}],\n",
              " ['com todo esse charme você ir atrair a todo',\n",
              "  {'POSITIVO': True, 'NEGATIVO': False}],\n",
              " ['nosso como você ser charmoso querer',\n",
              "  {'POSITIVO': True, 'NEGATIVO': False}],\n",
              " ['ser querida por o meu amigo', {'POSITIVO': True, 'NEGATIVO': False}],\n",
              " ['ser cuidadoso com o meu sentimento', {'POSITIVO': True, 'NEGATIVO': False}],\n",
              " ['estar comovido com tamanho caridade',\n",
              "  {'POSITIVO': True, 'NEGATIVO': False}],\n",
              " ['um chá quente e reconfortante', {'POSITIVO': True, 'NEGATIVO': False}],\n",
              " ['que alegr ter você aqui', {'POSITIVO': True, 'NEGATIVO': False}],\n",
              " ['ir aplaudir o vencedor', {'POSITIVO': True, 'NEGATIVO': False}],\n",
              " ['palma para o aniversariante', {'POSITIVO': True, 'NEGATIVO': False}],\n",
              " ['desejo a você tudo de bom', {'POSITIVO': True, 'NEGATIVO': False}],\n",
              " ['hora de apreciar um bom vinho', {'POSITIVO': True, 'NEGATIVO': False}],\n",
              " ['apreciar seu presença em meu escola',\n",
              "  {'POSITIVO': True, 'NEGATIVO': False}],\n",
              " ['anseio por seu próximo trabalho', {'POSITIVO': True, 'NEGATIVO': False}],\n",
              " ['maravilhoso jogo amistoso', {'POSITIVO': True, 'NEGATIVO': False}],\n",
              " ['e bom que eles menimo ter se apaziguar',\n",
              "  {'POSITIVO': True, 'NEGATIVO': False}],\n",
              " ['concretizar finalmente meu sonho', {'POSITIVO': True, 'NEGATIVO': False}],\n",
              " ['eu imploror não eu matem !', {'POSITIVO': False, 'NEGATIVO': True}],\n",
              " ['ter certeza que não ser perigoso ?', {'POSITIVO': False, 'NEGATIVO': True}],\n",
              " ['não ter certeza se ser seguro', {'POSITIVO': False, 'NEGATIVO': True}],\n",
              " ['ter que correr pra não eu pegar', {'POSITIVO': False, 'NEGATIVO': True}],\n",
              " ['socorro ! ele querer roubar o meu doce !',\n",
              "  {'POSITIVO': False, 'NEGATIVO': True}],\n",
              " ['esse cara estar eu perseguir', {'POSITIVO': False, 'NEGATIVO': True}],\n",
              " ['não entro lá ser um lugar muito perigoso',\n",
              "  {'POSITIVO': False, 'NEGATIVO': True}],\n",
              " ['este lugar continuar assustador', {'POSITIVO': False, 'NEGATIVO': True}],\n",
              " ['em o selva ter muito animal perigoso',\n",
              "  {'POSITIVO': False, 'NEGATIVO': True}],\n",
              " ['avancer com cautela', {'POSITIVO': False, 'NEGATIVO': True}],\n",
              " ['este lugar estar silencioso de mais cuidado !',\n",
              "  {'POSITIVO': False, 'NEGATIVO': True}],\n",
              " ['por favor deixe-me viver !', {'POSITIVO': False, 'NEGATIVO': True}],\n",
              " ['ir ficar sem mesada se tirar nota baixo',\n",
              "  {'POSITIVO': False, 'NEGATIVO': True}],\n",
              " ['parecer que ter olho em o vigiar', {'POSITIVO': False, 'NEGATIVO': True}],\n",
              " ['eu temo que o sentença de o juiz poder ser negativo',\n",
              "  {'POSITIVO': False, 'NEGATIVO': True}],\n",
              " ['mas esse missão ser arriscar', {'POSITIVO': False, 'NEGATIVO': True}],\n",
              " ['salvem se quem puder !', {'POSITIVO': False, 'NEGATIVO': True}],\n",
              " ['meu plano poder ser descobrir', {'POSITIVO': False, 'NEGATIVO': True}],\n",
              " ['não ter culpa juro não ser eu', {'POSITIVO': False, 'NEGATIVO': True}],\n",
              " ['ter que tomar cuidado com o lobisomem',\n",
              "  {'POSITIVO': False, 'NEGATIVO': True}],\n",
              " ['se eu não achar ele ir descobrir o verdade',\n",
              "  {'POSITIVO': False, 'NEGATIVO': True}],\n",
              " ['meu Deus ele desaparecer !', {'POSITIVO': False, 'NEGATIVO': True}],\n",
              " ['tomaro que eles não eu vejam de aqui !',\n",
              "  {'POSITIVO': False, 'NEGATIVO': True}],\n",
              " ['manter isso em segredo se descobrir estaremo ferrado',\n",
              "  {'POSITIVO': False, 'NEGATIVO': True}],\n",
              " ['por favor eu soltar eu ser inocente',\n",
              "  {'POSITIVO': False, 'NEGATIVO': True}],\n",
              " ['estar ouvir passo atrás de eu', {'POSITIVO': False, 'NEGATIVO': True}],\n",
              " ['eu ir pedir socorro !', {'POSITIVO': False, 'NEGATIVO': True}],\n",
              " ['cuidado com o curva em o estrada', {'POSITIVO': False, 'NEGATIVO': True}],\n",
              " ['não saber não parecer perigoso', {'POSITIVO': False, 'NEGATIVO': True}],\n",
              " ['estar tremer de medo !', {'POSITIVO': False, 'NEGATIVO': True}],\n",
              " ['socorro eu ir cair !', {'POSITIVO': False, 'NEGATIVO': True}],\n",
              " ['eu não ir até o floresta negro ser muito perigoso',\n",
              "  {'POSITIVO': False, 'NEGATIVO': True}],\n",
              " ['ouço passo em o meu direção', {'POSITIVO': False, 'NEGATIVO': True}],\n",
              " ['achar que estar arriscado de mais', {'POSITIVO': False, 'NEGATIVO': True}],\n",
              " ['ir voltar ser muito perigoso', {'POSITIVO': False, 'NEGATIVO': True}],\n",
              " ['fuja se não acabaremo morto', {'POSITIVO': False, 'NEGATIVO': True}],\n",
              " ['receiar por não eu livrar de este situação',\n",
              "  {'POSITIVO': False, 'NEGATIVO': True}],\n",
              " ['socorro ! ele estar armado !', {'POSITIVO': False, 'NEGATIVO': True}],\n",
              " ['ei cuidado você ir bater em o poste !',\n",
              "  {'POSITIVO': False, 'NEGATIVO': True}],\n",
              " ['socorro nós estar afundar', {'POSITIVO': False, 'NEGATIVO': True}],\n",
              " ['e sério cuidado com esse arma !', {'POSITIVO': False, 'NEGATIVO': True}],\n",
              " ['o tubarão estar atacar !', {'POSITIVO': False, 'NEGATIVO': True}],\n",
              " ['sinto arrepio quando fico sozinho em o escuro',\n",
              "  {'POSITIVO': False, 'NEGATIVO': True}],\n",
              " ['calmo eu não estar com o dinheiro', {'POSITIVO': False, 'NEGATIVO': True}],\n",
              " ['eu achar que estar ser enganar', {'POSITIVO': False, 'NEGATIVO': True}],\n",
              " ['ligeiro ter que fugir depressa', {'POSITIVO': False, 'NEGATIVO': True}],\n",
              " ['ter um crocodilo selvagem vir para cá',\n",
              "  {'POSITIVO': False, 'NEGATIVO': True}],\n",
              " ['se ficarmos quieto eles não ir nós achar',\n",
              "  {'POSITIVO': False, 'NEGATIVO': True}],\n",
              " ['fuja ! o tigre parecer faminto', {'POSITIVO': False, 'NEGATIVO': True}],\n",
              " ['estar sem saída preciso de um milagre',\n",
              "  {'POSITIVO': False, 'NEGATIVO': True}],\n",
              " ['tirar isso de eu ! socorro !', {'POSITIVO': False, 'NEGATIVO': True}],\n",
              " ['não saber nadar ir eu afogar !', {'POSITIVO': False, 'NEGATIVO': True}],\n",
              " ['não ter certezar se e seguro', {'POSITIVO': False, 'NEGATIVO': True}],\n",
              " ['ir apanhar se meu pai ver meu boletim',\n",
              "  {'POSITIVO': False, 'NEGATIVO': True}],\n",
              " ['não consigo sair de aqui !', {'POSITIVO': False, 'NEGATIVO': True}],\n",
              " ['se sair tão tarde poder ser assaltar',\n",
              "  {'POSITIVO': False, 'NEGATIVO': True}],\n",
              " ['não eu deixar por favor !', {'POSITIVO': False, 'NEGATIVO': True}],\n",
              " ['esperar não poder eu largar aqui sozinho',\n",
              "  {'POSITIVO': False, 'NEGATIVO': True}],\n",
              " ['temo por o seu segurança', {'POSITIVO': False, 'NEGATIVO': True}],\n",
              " ['eu te entregar o dinheiro por favor não eu mate !',\n",
              "  {'POSITIVO': False, 'NEGATIVO': True}],\n",
              " ['ele ir levar todo o meu dinheiro', {'POSITIVO': False, 'NEGATIVO': True}],\n",
              " ['não dirijar tão rápido assim', {'POSITIVO': False, 'NEGATIVO': True}],\n",
              " ['eu descobrir ir eu prender !', {'POSITIVO': False, 'NEGATIVO': True}],\n",
              " ['só esperar que não eu façam nenhum mal',\n",
              "  {'POSITIVO': False, 'NEGATIVO': True}],\n",
              " ['ir eu afogar eu ajudar a sair de o água',\n",
              "  {'POSITIVO': False, 'NEGATIVO': True}],\n",
              " ['não estarer a salvo aqui', {'POSITIVO': False, 'NEGATIVO': True}],\n",
              " ['não querer nem pensar em o que poder acontecer',\n",
              "  {'POSITIVO': False, 'NEGATIVO': True}],\n",
              " ['em esse cidade ser um desgraça atrás de o outro',\n",
              "  {'POSITIVO': False, 'NEGATIVO': True}],\n",
              " ['alguém este eu ligar estar assustado',\n",
              "  {'POSITIVO': False, 'NEGATIVO': True}],\n",
              " ['isso não ser remediar não eu matar', {'POSITIVO': False, 'NEGATIVO': True}],\n",
              " ['eu não confior em ele ter que ter cautela',\n",
              "  {'POSITIVO': False, 'NEGATIVO': True}],\n",
              " ['muito cautela', {'POSITIVO': False, 'NEGATIVO': True}],\n",
              " ['ir ser descobrir meu Deus', {'POSITIVO': False, 'NEGATIVO': True}],\n",
              " ['receiar que ter de ir', {'POSITIVO': False, 'NEGATIVO': True}],\n",
              " ['o noite e muito perigoso', {'POSITIVO': False, 'NEGATIVO': True}],\n",
              " ['estar estremecer com esse casa', {'POSITIVO': False, 'NEGATIVO': True}],\n",
              " ['olhar aquele criatura se mover monstruosamente',\n",
              "  {'POSITIVO': False, 'NEGATIVO': True}],\n",
              " ['não aguentar este suspense', {'POSITIVO': False, 'NEGATIVO': True}],\n",
              " ['afugente o cão', {'POSITIVO': False, 'NEGATIVO': True}],\n",
              " ['estar chocado e amedrontar com este assassinato brutal',\n",
              "  {'POSITIVO': False, 'NEGATIVO': True}],\n",
              " ['ser preciso afugentar com ímpeto este medo de o inferno',\n",
              "  {'POSITIVO': False, 'NEGATIVO': True}],\n",
              " ['político usar seu força para afugentar e amedrontar o povo',\n",
              "  {'POSITIVO': False, 'NEGATIVO': True}],\n",
              " ['o objetivo de isso e apenas eu amedrontar mais',\n",
              "  {'POSITIVO': False, 'NEGATIVO': True}],\n",
              " ['isso eu apavorar', {'POSITIVO': False, 'NEGATIVO': True}]]"
            ]
          },
          "metadata": {},
          "execution_count": 19
        }
      ]
    },
    {
      "cell_type": "code",
      "source": [
        "# Cria o modelo que será utilizado\n",
        "\n",
        "modelo = spacy.blank('pt') # Aqui instanciamos a variável modelo que receberá um pipeline (cadeia de funções) vazio do idioma alvo\n",
        "\n",
        "categorias = modelo.create_pipe('textcat') # Cria o pipeline a partir da variável modelo e recebe o parâmetro 'textcat', que é o categorizador de texto  \n",
        "                                           # para prever categorias em todo o documento\n",
        "    \n",
        "categorias.add_label('POSITIVO') # Adiciona a label 'POSITIVO' \n",
        "categorias.add_label('NEGATIVO') # Adiciona a label 'NEGATIVO'\n",
        "\n"
      ],
      "metadata": {
        "id": "-BAN859xGz-S",
        "outputId": "a44799c6-3be5-40d9-9273-e92e51172106",
        "colab": {
          "base_uri": "https://localhost:8080/"
        }
      },
      "execution_count": 20,
      "outputs": [
        {
          "output_type": "execute_result",
          "data": {
            "text/plain": [
              "1"
            ]
          },
          "metadata": {},
          "execution_count": 20
        }
      ]
    },
    {
      "cell_type": "code",
      "source": [
        "import spacy\n",
        "\n",
        "@spacy.Language.component('seu_nome')\n",
        "def seu_componente(doc):\n",
        "    # Implemente aqui a lógica do seu componente personalizado\n",
        "    return doc\n",
        "\n",
        "# Instancia uma variável 'modelo' que receberá um pipeline vazio do idioma alvo, que neste caso é o idioma português ('pt')\n",
        "modelo = spacy.blank('pt')\n",
        "\n",
        "# Cria um novo pipeline chamado 'categorias' a partir do objeto 'modelo' usando o método 'create_pipe()'\n",
        "# O pipeline 'textcat' é usado para prever categorias em todo o documento\n",
        "categorias = modelo.add_pipe('textcat')\n",
        "\n",
        "# Adiciona a label 'POSITIVO' ao pipeline 'categorias'\n",
        "categorias.add_label('POSITIVO')\n",
        "\n",
        "# Adiciona a label 'NEGATIVO' ao pipeline 'categorias'\n",
        "categorias.add_label('NEGATIVO')\n",
        "\n",
        "# Adiciona o componente personalizado 'seu_nome' ao pipeline de processamento do modelo\n",
        "modelo.add_pipe('seu_nome')\n",
        "\n",
        "# Cria uma lista vazia chamada 'historico' para receber os erros do treinamento\n",
        "historico = []"
      ],
      "metadata": {
        "id": "RPnlcPo6HsSe"
      },
      "execution_count": 21,
      "outputs": []
    },
    {
      "cell_type": "code",
      "source": [
        "# Treina o modelo com X épocas\n",
        "\n",
        "modelo.begin_training()  # Inicia a fase de aprendizagem\n",
        "\n",
        "for epoca in range(500):  # Itera 500 vezes\n",
        "    random.shuffle(base_dados_final)  # Embaralha a lista com as frases\n",
        "    losses = {}  # Cria um dicionário vazio que receberá os erros\n",
        "\n",
        "    for batch in spacy.util.minibatch(base_dados_final, 30):  # Itera sobre 'batches' (lotes) de dados - 30 por vez.\n",
        "        textos = [modelo(texto) for texto, entities in batch]  # Instancia a variável 'textos' que receberá as entidades processadas (cada texto para o modelo).\n",
        "        annotations = [{'cats': entities} for texto, entities in batch]  # Aqui teremos os textos e as suas respectivas categorias\n",
        "        examples = []\n",
        "\n",
        "        for i in range(len(textos)):\n",
        "            examples.append(spacy.training.Example.from_dict(textos[i], annotations[i]))\n",
        "        \n",
        "        modelo.update(examples, losses=losses)  # Faz a atualização do modelo com todos os exemplos e salva os erros\n",
        "        \n",
        "    if epoca % 100 == 0:  # A cada 100 épocas, é exibido o valor do erro\n",
        "        print(losses)\n",
        "        historico.append(losses)\n",
        "\n"
      ],
      "metadata": {
        "id": "vCcfCvC2JqGK",
        "outputId": "7c688e02-5b13-4917-fb79-52b854e28549",
        "colab": {
          "base_uri": "https://localhost:8080/"
        }
      },
      "execution_count": 22,
      "outputs": [
        {
          "output_type": "stream",
          "name": "stdout",
          "text": [
            "{'textcat': 1.6396178156137466}\n",
            "{'textcat': 3.028096675315728e-11}\n",
            "{'textcat': 3.7801514034870726e-12}\n",
            "{'textcat': 9.684611578940523e-13}\n",
            "{'textcat': 3.623191410930633e-13}\n"
          ]
        }
      ]
    },
    {
      "cell_type": "code",
      "source": [
        "historico"
      ],
      "metadata": {
        "id": "63jRttmmLxaU",
        "outputId": "8337125c-09aa-4e73-a292-690b3ef1c41f",
        "colab": {
          "base_uri": "https://localhost:8080/"
        }
      },
      "execution_count": 23,
      "outputs": [
        {
          "output_type": "execute_result",
          "data": {
            "text/plain": [
              "[{'textcat': 1.6396178156137466},\n",
              " {'textcat': 3.028096675315728e-11},\n",
              " {'textcat': 3.7801514034870726e-12},\n",
              " {'textcat': 9.684611578940523e-13},\n",
              " {'textcat': 3.623191410930633e-13}]"
            ]
          },
          "metadata": {},
          "execution_count": 23
        }
      ]
    },
    {
      "cell_type": "code",
      "source": [
        "# Salva os erros\n",
        "import matplotlib.pyplot as plt\n",
        "\n",
        "historico_loss = []  # Cria uma lista vazia para armazenar os erros\n",
        "\n",
        "for i in historico:\n",
        "    historico_loss.append(i.get('textcat'))  # Adiciona somente os valores dos erros na lista\n",
        "                                             # O método .get() captura o valor de cada chave 'textcat'\n",
        "\n",
        "historico_loss = np.array(historico_loss)  # Converte a lista para um np.array, para poder plotar o gráfico com os erros\n",
        "\n",
        "# Plotagem do gráfico de histórico de erros\n",
        "plt.plot(historico_loss)\n",
        "plt.xlabel('Época')\n",
        "plt.ylabel('Erro')\n",
        "plt.title('Histórico de Erros durante o Treinamento')\n",
        "plt.show()\n"
      ],
      "metadata": {
        "id": "Io_v-_aPMAEw",
        "outputId": "14b42f2f-8d43-42f4-ec03-713a52a5d1a0",
        "colab": {
          "base_uri": "https://localhost:8080/",
          "height": 474
        }
      },
      "execution_count": 24,
      "outputs": [
        {
          "output_type": "display_data",
          "data": {
            "text/plain": [
              "<Figure size 640x480 with 1 Axes>"
            ],
            "image/png": "[encoded data removed]"
          },
          "metadata": {}
        }
      ]
    },
    {
      "cell_type": "code",
      "source": [
        "# Salva o modelo\n",
        "\n",
        "modelo.to_disk('modelo')"
      ],
      "metadata": {
        "id": "c1l0fJRvMQog"
      },
      "execution_count": 25,
      "outputs": []
    },
    {
      "cell_type": "code",
      "source": [
        "# Carrega o modelo salvo\n",
        "modelo_carregado = spacy.load('modelo')  # Carrega o modelo previamente treinado chamado 'modelo' e o atribui à variável 'modelo_carregado'\n"
      ],
      "metadata": {
        "id": "Fw_fyjujMbVz"
      },
      "execution_count": 26,
      "outputs": []
    },
    {
      "cell_type": "code",
      "source": [
        "# Cria uma frase de teste\n",
        "texto = 'Hoje de manhã eu fui passear no parque'\n",
        "\n",
        "# Aplica a função preprocessamento na frase\n",
        "texto = preprocessamento(texto)  # Chama a função preprocessamento, passando a frase como argumento, e atribui o resultado à variável 'texto'\n",
        "\n"
      ],
      "metadata": {
        "id": "XFMWlXmWMcmu"
      },
      "execution_count": 27,
      "outputs": []
    },
    {
      "cell_type": "code",
      "source": [
        "previsao = modelo_carregado(texto)\n",
        "previsao"
      ],
      "metadata": {
        "id": "4YexmUJlMnFS"
      },
      "execution_count": null,
      "outputs": []
    },
    {
      "cell_type": "code",
      "source": [
        "previsao.cats"
      ],
      "metadata": {
        "id": "7Mospg6rMxlH",
        "outputId": "f7f92334-c316-49f5-f383-25a13ad5af21",
        "colab": {
          "base_uri": "https://localhost:8080/"
        }
      },
      "execution_count": 29,
      "outputs": [
        {
          "output_type": "execute_result",
          "data": {
            "text/plain": [
              "{'POSITIVO': 0.9999927282333374, 'NEGATIVO': 7.2874504439823795e-06}"
            ]
          },
          "metadata": {},
          "execution_count": 29
        }
      ]
    },
    {
      "cell_type": "code",
      "source": [
        "# Avaliação do modelo\n",
        "previsoes = []  # Cria uma lista vazia para armazenar as previsões do modelo para cada exemplo da base de treinamento\n",
        "\n",
        "for texto in base_treinamento['texto']:  # Itera sobre cada texto da coluna 'texto' da base de treinamento\n",
        "    previsao = modelo_carregado(texto)  # Aplica o modelo carregado ao texto atual, gerando uma previsão\n",
        "    previsoes.append(previsao.cats)  # Adiciona a previsão na forma de um dicionário de categorias à lista de previsões\n",
        "\n",
        "# Descrição do código:\n",
        "# Neste trecho de código, avaliamos o modelo carregado aplicando-o a cada texto da coluna 'texto' da base de treinamento.\n",
        "# Para cada texto, o modelo gera uma previsão de categorias. Essas previsões são armazenadas em uma lista chamada 'previsoes'.\n",
        "# Cada previsão é representada por um dicionário de categorias, onde as chaves são as categorias possíveis (por exemplo, 'POSITIVO' e 'NEGATIVO')\n",
        "# e os valores são as probabilidades atribuídas a cada categoria pelo modelo.\n",
        "# Ao final desse trecho de código, teremos uma lista de previsões correspondentes a cada exemplo da base de treinamento.\n"
      ],
      "metadata": {
        "id": "7fmDsgCdNB2V"
      },
      "execution_count": 30,
      "outputs": []
    },
    {
      "cell_type": "code",
      "source": [
        "previsoes"
      ],
      "metadata": {
        "id": "jYgyLQcrNEHs",
        "outputId": "e96cda7b-8592-45ba-893c-ed0e8217d225",
        "colab": {
          "base_uri": "https://localhost:8080/"
        }
      },
      "execution_count": 31,
      "outputs": [
        {
          "output_type": "execute_result",
          "data": {
            "text/plain": [
              "[{'POSITIVO': 0.9999998807907104, 'NEGATIVO': 1.0823143270499713e-07},\n",
              " {'POSITIVO': 1.0, 'NEGATIVO': 3.5110744533994875e-08},\n",
              " {'POSITIVO': 1.0, 'NEGATIVO': 3.5001686882196736e-08},\n",
              " {'POSITIVO': 0.9999996423721313, 'NEGATIVO': 3.612743739722646e-07},\n",
              " {'POSITIVO': 1.0, 'NEGATIVO': 7.393307299707885e-09},\n",
              " {'POSITIVO': 0.9999998807907104, 'NEGATIVO': 6.205306135598221e-08},\n",
              " {'POSITIVO': 1.0, 'NEGATIVO': 5.2252225657412055e-08},\n",
              " {'POSITIVO': 0.9999998807907104, 'NEGATIVO': 7.241894195431087e-08},\n",
              " {'POSITIVO': 0.9999997615814209, 'NEGATIVO': 2.244496499770321e-07},\n",
              " {'POSITIVO': 0.9999997615814209, 'NEGATIVO': 2.3359112333309895e-07},\n",
              " {'POSITIVO': 1.0, 'NEGATIVO': 3.824845862254733e-08},\n",
              " {'POSITIVO': 1.0, 'NEGATIVO': 1.676384542292908e-08},\n",
              " {'POSITIVO': 1.0, 'NEGATIVO': 1.497434176656043e-08},\n",
              " {'POSITIVO': 0.9999998807907104, 'NEGATIVO': 1.3567201051500888e-07},\n",
              " {'POSITIVO': 0.9999997615814209, 'NEGATIVO': 2.9434582415888144e-07},\n",
              " {'POSITIVO': 0.9999998807907104, 'NEGATIVO': 7.223119524724098e-08},\n",
              " {'POSITIVO': 0.9999998807907104, 'NEGATIVO': 8.035196685796109e-08},\n",
              " {'POSITIVO': 1.0, 'NEGATIVO': 1.5014608223395953e-08},\n",
              " {'POSITIVO': 0.9999998807907104, 'NEGATIVO': 8.779203852782302e-08},\n",
              " {'POSITIVO': 0.9999998807907104, 'NEGATIVO': 8.008604623910287e-08},\n",
              " {'POSITIVO': 0.9999998807907104, 'NEGATIVO': 9.489686192409863e-08},\n",
              " {'POSITIVO': 0.9999998807907104, 'NEGATIVO': 8.203340229329115e-08},\n",
              " {'POSITIVO': 1.0, 'NEGATIVO': 4.9025697279603264e-08},\n",
              " {'POSITIVO': 1.0, 'NEGATIVO': 2.6903043348625033e-08},\n",
              " {'POSITIVO': 1.0, 'NEGATIVO': 3.864760955707425e-08},\n",
              " {'POSITIVO': 0.9999998807907104, 'NEGATIVO': 1.274167971132556e-07},\n",
              " {'POSITIVO': 0.9999998807907104, 'NEGATIVO': 9.836068670665554e-08},\n",
              " {'POSITIVO': 0.9999997615814209, 'NEGATIVO': 2.1337037026114558e-07},\n",
              " {'POSITIVO': 0.9999998807907104, 'NEGATIVO': 1.1250210718571907e-07},\n",
              " {'POSITIVO': 1.0, 'NEGATIVO': 2.6647796858014772e-08},\n",
              " {'POSITIVO': 1.0, 'NEGATIVO': 5.170231176521156e-08},\n",
              " {'POSITIVO': 1.0, 'NEGATIVO': 3.206267606969959e-08},\n",
              " {'POSITIVO': 0.9999997615814209, 'NEGATIVO': 2.392250166849408e-07},\n",
              " {'POSITIVO': 0.9999997615814209, 'NEGATIVO': 1.962004176903065e-07},\n",
              " {'POSITIVO': 0.9999998807907104, 'NEGATIVO': 1.074364988085108e-07},\n",
              " {'POSITIVO': 0.9999998807907104, 'NEGATIVO': 1.576002262027032e-07},\n",
              " {'POSITIVO': 0.9999998807907104, 'NEGATIVO': 7.942340829458772e-08},\n",
              " {'POSITIVO': 1.0, 'NEGATIVO': 2.2556843504162316e-08},\n",
              " {'POSITIVO': 1.0, 'NEGATIVO': 4.384245499977624e-08},\n",
              " {'POSITIVO': 0.9999997615814209, 'NEGATIVO': 2.5837741191026e-07},\n",
              " {'POSITIVO': 0.9999998807907104, 'NEGATIVO': 1.197640528971533e-07},\n",
              " {'POSITIVO': 0.9999998807907104, 'NEGATIVO': 7.438914906288119e-08},\n",
              " {'POSITIVO': 0.9999998807907104, 'NEGATIVO': 1.1073912986603318e-07},\n",
              " {'POSITIVO': 0.9999996423721313, 'NEGATIVO': 3.061403504034388e-07},\n",
              " {'POSITIVO': 1.0, 'NEGATIVO': 4.377677598199625e-08},\n",
              " {'POSITIVO': 0.9999998807907104, 'NEGATIVO': 1.6952871817466075e-07},\n",
              " {'POSITIVO': 1.0, 'NEGATIVO': 3.6308215101144015e-08},\n",
              " {'POSITIVO': 0.9999998807907104, 'NEGATIVO': 8.666966522241637e-08},\n",
              " {'POSITIVO': 0.9999998807907104, 'NEGATIVO': 1.457227369883185e-07},\n",
              " {'POSITIVO': 1.0, 'NEGATIVO': 2.8232781446035915e-08},\n",
              " {'POSITIVO': 0.9999997615814209, 'NEGATIVO': 2.712269235871645e-07},\n",
              " {'POSITIVO': 1.0, 'NEGATIVO': 1.3743980176172954e-08},\n",
              " {'POSITIVO': 0.9999998807907104, 'NEGATIVO': 9.396784150794701e-08},\n",
              " {'POSITIVO': 1.0, 'NEGATIVO': 1.4275538973151924e-08},\n",
              " {'POSITIVO': 1.0, 'NEGATIVO': 4.778983253572733e-08},\n",
              " {'POSITIVO': 1.0, 'NEGATIVO': 1.834481011542266e-08},\n",
              " {'POSITIVO': 0.9999998807907104, 'NEGATIVO': 7.38998338079e-08},\n",
              " {'POSITIVO': 0.9999998807907104, 'NEGATIVO': 9.623035879258168e-08},\n",
              " {'POSITIVO': 0.9999998807907104, 'NEGATIVO': 1.3542484111894737e-07},\n",
              " {'POSITIVO': 1.0, 'NEGATIVO': 4.1501365899421216e-08},\n",
              " {'POSITIVO': 1.0, 'NEGATIVO': 1.971044838455782e-08},\n",
              " {'POSITIVO': 0.9999998807907104, 'NEGATIVO': 8.430937725734111e-08},\n",
              " {'POSITIVO': 1.0, 'NEGATIVO': 3.72627297906547e-08},\n",
              " {'POSITIVO': 1.0, 'NEGATIVO': 3.0954758756251977e-08},\n",
              " {'POSITIVO': 0.9999998807907104, 'NEGATIVO': 7.440107196998724e-08},\n",
              " {'POSITIVO': 0.9999998807907104, 'NEGATIVO': 6.090126447588773e-08},\n",
              " {'POSITIVO': 0.9999998807907104, 'NEGATIVO': 1.0246755266507535e-07},\n",
              " {'POSITIVO': 0.9999998807907104, 'NEGATIVO': 1.3704143952963932e-07},\n",
              " {'POSITIVO': 0.9999998807907104, 'NEGATIVO': 1.2622611222923297e-07},\n",
              " {'POSITIVO': 0.9999998807907104, 'NEGATIVO': 6.331002566639654e-08},\n",
              " {'POSITIVO': 1.0, 'NEGATIVO': 5.5614883365251444e-08},\n",
              " {'POSITIVO': 0.9999998807907104, 'NEGATIVO': 7.614219299512115e-08},\n",
              " {'POSITIVO': 0.9999998807907104, 'NEGATIVO': 7.0565498333508e-08},\n",
              " {'POSITIVO': 0.9999998807907104, 'NEGATIVO': 6.399255880751298e-08},\n",
              " {'POSITIVO': 0.9999998807907104, 'NEGATIVO': 1.0788291859853416e-07},\n",
              " {'POSITIVO': 0.9999998807907104, 'NEGATIVO': 6.39520507661473e-08},\n",
              " {'POSITIVO': 1.0, 'NEGATIVO': 2.0444828052745834e-08},\n",
              " {'POSITIVO': 0.9999997615814209, 'NEGATIVO': 1.8996003348092927e-07},\n",
              " {'POSITIVO': 1.0, 'NEGATIVO': 4.0416299640355646e-08},\n",
              " {'POSITIVO': 0.9999995231628418, 'NEGATIVO': 5.234739433035429e-07},\n",
              " {'POSITIVO': 1.0, 'NEGATIVO': 1.6990108875347687e-08},\n",
              " {'POSITIVO': 0.9999998807907104, 'NEGATIVO': 1.4818928661952668e-07},\n",
              " {'POSITIVO': 0.9999998807907104, 'NEGATIVO': 8.324993672204073e-08},\n",
              " {'POSITIVO': 1.0, 'NEGATIVO': 2.1777026404379285e-08},\n",
              " {'POSITIVO': 0.9999998807907104, 'NEGATIVO': 8.740241952409633e-08},\n",
              " {'POSITIVO': 1.0, 'NEGATIVO': 5.8792359425297036e-08},\n",
              " {'POSITIVO': 1.0, 'NEGATIVO': 3.9764969983480114e-08},\n",
              " {'POSITIVO': 0.9999998807907104, 'NEGATIVO': 8.139408436136364e-08},\n",
              " {'POSITIVO': 0.9999997615814209, 'NEGATIVO': 1.855173223930251e-07},\n",
              " {'POSITIVO': 0.9999997615814209, 'NEGATIVO': 2.2413735223381082e-07},\n",
              " {'POSITIVO': 0.9999998807907104, 'NEGATIVO': 1.0376799508549084e-07},\n",
              " {'POSITIVO': 0.9999997615814209, 'NEGATIVO': 2.293502490147148e-07},\n",
              " {'POSITIVO': 1.0, 'NEGATIVO': 4.732061853474079e-08},\n",
              " {'POSITIVO': 0.9999998807907104, 'NEGATIVO': 6.899188775832954e-08},\n",
              " {'POSITIVO': 1.0, 'NEGATIVO': 2.0925432053786608e-08},\n",
              " {'POSITIVO': 0.9999998807907104, 'NEGATIVO': 1.524684449805136e-07},\n",
              " {'POSITIVO': 0.9999998807907104, 'NEGATIVO': 1.0784609827396707e-07},\n",
              " {'POSITIVO': 1.0, 'NEGATIVO': 5.0449745714331584e-08},\n",
              " {'POSITIVO': 0.9999998807907104, 'NEGATIVO': 9.566815606376622e-08},\n",
              " {'POSITIVO': 0.9999998807907104, 'NEGATIVO': 7.362240239672246e-08},\n",
              " {'POSITIVO': 0.9999998807907104, 'NEGATIVO': 7.208476660025553e-08},\n",
              " {'POSITIVO': 1.0, 'NEGATIVO': 2.793560227587477e-08},\n",
              " {'POSITIVO': 1.0, 'NEGATIVO': 5.2577643572249144e-08},\n",
              " {'POSITIVO': 1.0, 'NEGATIVO': 5.443049744258133e-08},\n",
              " {'POSITIVO': 0.9999998807907104, 'NEGATIVO': 7.710706029229186e-08},\n",
              " {'POSITIVO': 1.0, 'NEGATIVO': 3.792461100715627e-08},\n",
              " {'POSITIVO': 1.0, 'NEGATIVO': 4.310802736995356e-08},\n",
              " {'POSITIVO': 0.9999998807907104, 'NEGATIVO': 6.624945569910778e-08},\n",
              " {'POSITIVO': 0.9999998807907104, 'NEGATIVO': 8.939186812995104e-08},\n",
              " {'POSITIVO': 1.0, 'NEGATIVO': 5.692376703336777e-08},\n",
              " {'POSITIVO': 0.9999997615814209, 'NEGATIVO': 2.6826242560673563e-07},\n",
              " {'POSITIVO': 0.9999998807907104, 'NEGATIVO': 6.584532030728951e-08},\n",
              " {'POSITIVO': 6.59312560102876e-09, 'NEGATIVO': 1.0},\n",
              " {'POSITIVO': 6.327911705739098e-08, 'NEGATIVO': 0.9999998807907104},\n",
              " {'POSITIVO': 9.552571178517155e-09, 'NEGATIVO': 1.0},\n",
              " {'POSITIVO': 1.5031657696340517e-08, 'NEGATIVO': 1.0},\n",
              " {'POSITIVO': 1.932011173266801e-08, 'NEGATIVO': 1.0},\n",
              " {'POSITIVO': 1.2932400750287343e-07, 'NEGATIVO': 0.9999998807907104},\n",
              " {'POSITIVO': 1.089056311798231e-08, 'NEGATIVO': 1.0},\n",
              " {'POSITIVO': 1.2870783905327698e-07, 'NEGATIVO': 0.9999998807907104},\n",
              " {'POSITIVO': 4.0630951048115094e-07, 'NEGATIVO': 0.9999996423721313},\n",
              " {'POSITIVO': 1.6140070613346325e-07, 'NEGATIVO': 0.9999998807907104},\n",
              " {'POSITIVO': 3.152172922682439e-08, 'NEGATIVO': 1.0},\n",
              " {'POSITIVO': 1.631391022272055e-08, 'NEGATIVO': 1.0},\n",
              " {'POSITIVO': 3.648754329788062e-07, 'NEGATIVO': 0.9999996423721313},\n",
              " {'POSITIVO': 1.8796728795678064e-07, 'NEGATIVO': 0.9999997615814209},\n",
              " {'POSITIVO': 8.396467876536917e-08, 'NEGATIVO': 0.9999998807907104},\n",
              " {'POSITIVO': 1.548606149981424e-07, 'NEGATIVO': 0.9999998807907104},\n",
              " {'POSITIVO': 9.19331455406791e-09, 'NEGATIVO': 1.0},\n",
              " {'POSITIVO': 3.231475886877888e-08, 'NEGATIVO': 1.0},\n",
              " {'POSITIVO': 1.4625898714371033e-08, 'NEGATIVO': 1.0},\n",
              " {'POSITIVO': 1.3307591473221692e-07, 'NEGATIVO': 0.9999998807907104},\n",
              " {'POSITIVO': 3.325226671790915e-08, 'NEGATIVO': 1.0},\n",
              " {'POSITIVO': 6.248201955827426e-09, 'NEGATIVO': 1.0},\n",
              " {'POSITIVO': 1.5821788323933106e-08, 'NEGATIVO': 1.0},\n",
              " {'POSITIVO': 1.580713586690763e-07, 'NEGATIVO': 0.9999998807907104},\n",
              " {'POSITIVO': 3.778129951115261e-07, 'NEGATIVO': 0.9999996423721313},\n",
              " {'POSITIVO': 7.358014642022681e-08, 'NEGATIVO': 0.9999998807907104},\n",
              " {'POSITIVO': 7.607741991932926e-09, 'NEGATIVO': 1.0},\n",
              " {'POSITIVO': 1.973400287624827e-07, 'NEGATIVO': 0.9999997615814209},\n",
              " {'POSITIVO': 7.771950194523924e-09, 'NEGATIVO': 1.0},\n",
              " {'POSITIVO': 7.288938341787343e-09, 'NEGATIVO': 1.0},\n",
              " {'POSITIVO': 1.5920504026212257e-08, 'NEGATIVO': 1.0},\n",
              " {'POSITIVO': 4.1538189776701984e-08, 'NEGATIVO': 1.0},\n",
              " {'POSITIVO': 3.783560202919034e-07, 'NEGATIVO': 0.9999996423721313},\n",
              " {'POSITIVO': 1.808529361824185e-07, 'NEGATIVO': 0.9999997615814209},\n",
              " {'POSITIVO': 1.912358698064054e-07, 'NEGATIVO': 0.9999997615814209},\n",
              " {'POSITIVO': 1.7443749555923205e-08, 'NEGATIVO': 1.0},\n",
              " {'POSITIVO': 6.276704311858339e-08, 'NEGATIVO': 0.9999998807907104},\n",
              " {'POSITIVO': 6.178989764293874e-09, 'NEGATIVO': 1.0},\n",
              " {'POSITIVO': 4.8526302975915314e-08, 'NEGATIVO': 1.0},\n",
              " {'POSITIVO': 7.470622875871413e-08, 'NEGATIVO': 0.9999998807907104},\n",
              " {'POSITIVO': 1.3861024328321037e-08, 'NEGATIVO': 1.0},\n",
              " {'POSITIVO': 9.732565864339904e-09, 'NEGATIVO': 1.0},\n",
              " {'POSITIVO': 1.596484651145147e-07, 'NEGATIVO': 0.9999998807907104},\n",
              " {'POSITIVO': 2.1762865287655586e-08, 'NEGATIVO': 1.0},\n",
              " {'POSITIVO': 3.8543194591511565e-07, 'NEGATIVO': 0.9999996423721313},\n",
              " {'POSITIVO': 1.0714693132740649e-07, 'NEGATIVO': 0.9999998807907104},\n",
              " {'POSITIVO': 2.1127323179825908e-07, 'NEGATIVO': 0.9999997615814209},\n",
              " {'POSITIVO': 3.4657439584862004e-08, 'NEGATIVO': 1.0},\n",
              " {'POSITIVO': 9.299112946337118e-08, 'NEGATIVO': 0.9999998807907104},\n",
              " {'POSITIVO': 1.407982068712954e-07, 'NEGATIVO': 0.9999998807907104},\n",
              " {'POSITIVO': 8.359822167847142e-09, 'NEGATIVO': 1.0},\n",
              " {'POSITIVO': 1.393429194251894e-08, 'NEGATIVO': 1.0},\n",
              " {'POSITIVO': 1.290137863207974e-08, 'NEGATIVO': 1.0},\n",
              " {'POSITIVO': 1.33755222009313e-07, 'NEGATIVO': 0.9999998807907104},\n",
              " {'POSITIVO': 8.655796079892752e-09, 'NEGATIVO': 1.0},\n",
              " {'POSITIVO': 9.269008671708434e-08, 'NEGATIVO': 0.9999998807907104},\n",
              " {'POSITIVO': 8.824327046852432e-09, 'NEGATIVO': 1.0},\n",
              " {'POSITIVO': 2.0805641653964813e-08, 'NEGATIVO': 1.0},\n",
              " {'POSITIVO': 2.080052752262418e-07, 'NEGATIVO': 0.9999997615814209},\n",
              " {'POSITIVO': 1.586418463261907e-08, 'NEGATIVO': 1.0},\n",
              " {'POSITIVO': 3.0869037459524407e-07, 'NEGATIVO': 0.9999996423721313},\n",
              " {'POSITIVO': 1.6845966399614554e-08, 'NEGATIVO': 1.0},\n",
              " {'POSITIVO': 1.3987282443395088e-08, 'NEGATIVO': 1.0},\n",
              " {'POSITIVO': 4.184441948495987e-08, 'NEGATIVO': 1.0},\n",
              " {'POSITIVO': 2.4719054181332467e-07, 'NEGATIVO': 0.9999997615814209},\n",
              " {'POSITIVO': 3.777416424100011e-08, 'NEGATIVO': 1.0},\n",
              " {'POSITIVO': 5.7206538173204535e-08, 'NEGATIVO': 1.0},\n",
              " {'POSITIVO': 9.604295314602496e-08, 'NEGATIVO': 0.9999998807907104},\n",
              " {'POSITIVO': 1.6231186350523785e-07, 'NEGATIVO': 0.9999998807907104},\n",
              " {'POSITIVO': 1.8539683566132226e-08, 'NEGATIVO': 1.0},\n",
              " {'POSITIVO': 1.898317769644109e-08, 'NEGATIVO': 1.0},\n",
              " {'POSITIVO': 2.2306220159862278e-07, 'NEGATIVO': 0.9999997615814209},\n",
              " {'POSITIVO': 3.2139797667696257e-07, 'NEGATIVO': 0.9999996423721313},\n",
              " {'POSITIVO': 1.5781814965976082e-07, 'NEGATIVO': 0.9999998807907104},\n",
              " {'POSITIVO': 5.632381885334325e-07, 'NEGATIVO': 0.9999994039535522},\n",
              " {'POSITIVO': 2.6055988655571127e-07, 'NEGATIVO': 0.9999997615814209},\n",
              " {'POSITIVO': 3.6704236094919906e-07, 'NEGATIVO': 0.9999996423721313},\n",
              " {'POSITIVO': 2.4582977431464315e-08, 'NEGATIVO': 1.0},\n",
              " {'POSITIVO': 2.01388488108023e-07, 'NEGATIVO': 0.9999997615814209},\n",
              " {'POSITIVO': 2.1209930878285377e-07, 'NEGATIVO': 0.9999997615814209},\n",
              " {'POSITIVO': 2.142592023801626e-07, 'NEGATIVO': 0.9999997615814209},\n",
              " {'POSITIVO': 2.5506005840725265e-07, 'NEGATIVO': 0.9999997615814209},\n",
              " {'POSITIVO': 2.2224701012873993e-07, 'NEGATIVO': 0.9999997615814209},\n",
              " {'POSITIVO': 8.9723592111568e-08, 'NEGATIVO': 0.9999998807907104}]"
            ]
          },
          "metadata": {},
          "execution_count": 31
        }
      ]
    },
    {
      "cell_type": "code",
      "source": [
        "# Cria uma lista, avalia e adiciona cada um dos exemplos da base de treinamento\n",
        "\n",
        "previsoes_final = []  # Cria uma lista vazia para armazenar as previsões finais (positivo ou negativo) para cada exemplo da base de treinamento\n",
        "\n",
        "for previsao in previsoes:  # Itera sobre cada previsão gerada pelo modelo para os exemplos da base de treinamento\n",
        "    if previsao['POSITIVO'] > previsao['NEGATIVO']:  # Verifica se a probabilidade atribuída à categoria 'POSITIVO' é maior do que a probabilidade da categoria 'NEGATIVO'\n",
        "        previsoes_final.append('positivo')  # Se a probabilidade de 'POSITIVO' for maior, adiciona 'positivo' à lista de previsões finais\n",
        "    else:\n",
        "        previsoes_final.append('negativo')  # Caso contrário, adiciona 'negativo' à lista de previsões finais\n",
        "\n",
        "previsoes_final = np.array(previsoes_final)  # Converte a lista de previsões finais para um array numpy\n"
      ],
      "metadata": {
        "id": "QE4bwFFSNNzF"
      },
      "execution_count": 32,
      "outputs": []
    },
    {
      "cell_type": "code",
      "source": [
        "previsoes_final"
      ],
      "metadata": {
        "id": "WnVqnhonNSUG",
        "outputId": "b41b44ea-ceb6-46a4-8c4b-221b338de624",
        "colab": {
          "base_uri": "https://localhost:8080/"
        }
      },
      "execution_count": 33,
      "outputs": [
        {
          "output_type": "execute_result",
          "data": {
            "text/plain": [
              "array(['positivo', 'positivo', 'positivo', 'positivo', 'positivo',\n",
              "       'positivo', 'positivo', 'positivo', 'positivo', 'positivo',\n",
              "       'positivo', 'positivo', 'positivo', 'positivo', 'positivo',\n",
              "       'positivo', 'positivo', 'positivo', 'positivo', 'positivo',\n",
              "       'positivo', 'positivo', 'positivo', 'positivo', 'positivo',\n",
              "       'positivo', 'positivo', 'positivo', 'positivo', 'positivo',\n",
              "       'positivo', 'positivo', 'positivo', 'positivo', 'positivo',\n",
              "       'positivo', 'positivo', 'positivo', 'positivo', 'positivo',\n",
              "       'positivo', 'positivo', 'positivo', 'positivo', 'positivo',\n",
              "       'positivo', 'positivo', 'positivo', 'positivo', 'positivo',\n",
              "       'positivo', 'positivo', 'positivo', 'positivo', 'positivo',\n",
              "       'positivo', 'positivo', 'positivo', 'positivo', 'positivo',\n",
              "       'positivo', 'positivo', 'positivo', 'positivo', 'positivo',\n",
              "       'positivo', 'positivo', 'positivo', 'positivo', 'positivo',\n",
              "       'positivo', 'positivo', 'positivo', 'positivo', 'positivo',\n",
              "       'positivo', 'positivo', 'positivo', 'positivo', 'positivo',\n",
              "       'positivo', 'positivo', 'positivo', 'positivo', 'positivo',\n",
              "       'positivo', 'positivo', 'positivo', 'positivo', 'positivo',\n",
              "       'positivo', 'positivo', 'positivo', 'positivo', 'positivo',\n",
              "       'positivo', 'positivo', 'positivo', 'positivo', 'positivo',\n",
              "       'positivo', 'positivo', 'positivo', 'positivo', 'positivo',\n",
              "       'positivo', 'positivo', 'positivo', 'positivo', 'positivo',\n",
              "       'positivo', 'positivo', 'negativo', 'negativo', 'negativo',\n",
              "       'negativo', 'negativo', 'negativo', 'negativo', 'negativo',\n",
              "       'negativo', 'negativo', 'negativo', 'negativo', 'negativo',\n",
              "       'negativo', 'negativo', 'negativo', 'negativo', 'negativo',\n",
              "       'negativo', 'negativo', 'negativo', 'negativo', 'negativo',\n",
              "       'negativo', 'negativo', 'negativo', 'negativo', 'negativo',\n",
              "       'negativo', 'negativo', 'negativo', 'negativo', 'negativo',\n",
              "       'negativo', 'negativo', 'negativo', 'negativo', 'negativo',\n",
              "       'negativo', 'negativo', 'negativo', 'negativo', 'negativo',\n",
              "       'negativo', 'negativo', 'negativo', 'negativo', 'negativo',\n",
              "       'negativo', 'negativo', 'negativo', 'negativo', 'negativo',\n",
              "       'negativo', 'negativo', 'negativo', 'negativo', 'negativo',\n",
              "       'negativo', 'negativo', 'negativo', 'negativo', 'negativo',\n",
              "       'negativo', 'negativo', 'negativo', 'negativo', 'negativo',\n",
              "       'negativo', 'negativo', 'negativo', 'negativo', 'negativo',\n",
              "       'negativo', 'negativo', 'negativo', 'negativo', 'negativo',\n",
              "       'negativo', 'negativo', 'negativo', 'negativo', 'negativo',\n",
              "       'negativo'], dtype='<U8')"
            ]
          },
          "metadata": {},
          "execution_count": 33
        }
      ]
    },
    {
      "cell_type": "code",
      "source": [
        "# Obtém as respostas reais (emoções) dos exemplos da base de treinamento\n",
        "respostas_reais_treinamento = base_treinamento['emocao'].values\n"
      ],
      "metadata": {
        "id": "ASaiA9g7Nfnj"
      },
      "execution_count": 34,
      "outputs": []
    },
    {
      "cell_type": "code",
      "source": [
        "from sklearn.metrics import accuracy_score\n",
        "\n",
        "# Calcula a acurácia comparando as respostas reais com as previsões do modelo\n",
        "acuracia = accuracy_score(respostas_reais_treinamento, previsoes_final)\n"
      ],
      "metadata": {
        "id": "U9f840nKNgcf"
      },
      "execution_count": 35,
      "outputs": []
    },
    {
      "cell_type": "code",
      "source": [
        "# Carrega a base de treinamento\n",
        "\n",
        "base_teste = pd.read_csv('/content/base_teste.txt')\n",
        "base_teste.head()"
      ],
      "metadata": {
        "id": "6nDBktqNN_Po",
        "outputId": "ac2411ff-f002-44c9-d079-b4f0305fa349",
        "colab": {
          "base_uri": "https://localhost:8080/",
          "height": 206
        }
      },
      "execution_count": 38,
      "outputs": [
        {
          "output_type": "execute_result",
          "data": {
            "text/plain": [
              "                                    texto    emocao\n",
              "0           não precisei pagar o ingresso  positivo\n",
              "1             se eu ajeitar tudo fica bem  positivo\n",
              "2        minha fortuna ultrapassará a sua  positivo\n",
              "3                    sou muito afortunado  positivo\n",
              "4  é benéfico para todos esta nova medida  positivo"
            ],
            "text/html": [
              "\n",
              "  <div id=\"df-a8e728da-55d1-49b5-9188-ba7b0352ae38\">\n",
              "    <div class=\"colab-df-container\">\n",
              "      <div>\n",
              "<style scoped>\n",
              "    .dataframe tbody tr th:only-of-type {\n",
              "        vertical-align: middle;\n",
              "    }\n",
              "\n",
              "    .dataframe tbody tr th {\n",
              "        vertical-align: top;\n",
              "    }\n",
              "\n",
              "    .dataframe thead th {\n",
              "        text-align: right;\n",
              "    }\n",
              "</style>\n",
              "<table border=\"1\" class=\"dataframe\">\n",
              "  <thead>\n",
              "    <tr style=\"text-align: right;\">\n",
              "      <th></th>\n",
              "      <th>texto</th>\n",
              "      <th>emocao</th>\n",
              "    </tr>\n",
              "  </thead>\n",
              "  <tbody>\n",
              "    <tr>\n",
              "      <th>0</th>\n",
              "      <td>não precisei pagar o ingresso</td>\n",
              "      <td>positivo</td>\n",
              "    </tr>\n",
              "    <tr>\n",
              "      <th>1</th>\n",
              "      <td>se eu ajeitar tudo fica bem</td>\n",
              "      <td>positivo</td>\n",
              "    </tr>\n",
              "    <tr>\n",
              "      <th>2</th>\n",
              "      <td>minha fortuna ultrapassará a sua</td>\n",
              "      <td>positivo</td>\n",
              "    </tr>\n",
              "    <tr>\n",
              "      <th>3</th>\n",
              "      <td>sou muito afortunado</td>\n",
              "      <td>positivo</td>\n",
              "    </tr>\n",
              "    <tr>\n",
              "      <th>4</th>\n",
              "      <td>é benéfico para todos esta nova medida</td>\n",
              "      <td>positivo</td>\n",
              "    </tr>\n",
              "  </tbody>\n",
              "</table>\n",
              "</div>\n",
              "      <button class=\"colab-df-convert\" onclick=\"convertToInteractive('df-a8e728da-55d1-49b5-9188-ba7b0352ae38')\"\n",
              "              title=\"Convert this dataframe to an interactive table.\"\n",
              "              style=\"display:none;\">\n",
              "        \n",
              "  <svg xmlns=\"http://www.w3.org/2000/svg\" height=\"24px\"viewBox=\"0 0 24 24\"\n",
              "       width=\"24px\">\n",
              "    <path d=\"M0 0h24v24H0V0z\" fill=\"none\"/>\n",
              "    <path d=\"M18.56 5.44l.94 2.06.94-2.06 2.06-.94-2.06-.94-.94-2.06-.94 2.06-2.06.94zm-11 1L8.5 8.5l.94-2.06 2.06-.94-2.06-.94L8.5 2.5l-.94 2.06-2.06.94zm10 10l.94 2.06.94-2.06 2.06-.94-2.06-.94-.94-2.06-.94 2.06-2.06.94z\"/><path d=\"M17.41 7.96l-1.37-1.37c-.4-.4-.92-.59-1.43-.59-.52 0-1.04.2-1.43.59L10.3 9.45l-7.72 7.72c-.78.78-.78 2.05 0 2.83L4 21.41c.39.39.9.59 1.41.59.51 0 1.02-.2 1.41-.59l7.78-7.78 2.81-2.81c.8-.78.8-2.07 0-2.86zM5.41 20L4 18.59l7.72-7.72 1.47 1.35L5.41 20z\"/>\n",
              "  </svg>\n",
              "      </button>\n",
              "      \n",
              "  <style>\n",
              "    .colab-df-container {\n",
              "      display:flex;\n",
              "      flex-wrap:wrap;\n",
              "      gap: 12px;\n",
              "    }\n",
              "\n",
              "    .colab-df-convert {\n",
              "      background-color: #E8F0FE;\n",
              "      border: none;\n",
              "      border-radius: 50%;\n",
              "      cursor: pointer;\n",
              "      display: none;\n",
              "      fill: #1967D2;\n",
              "      height: 32px;\n",
              "      padding: 0 0 0 0;\n",
              "      width: 32px;\n",
              "    }\n",
              "\n",
              "    .colab-df-convert:hover {\n",
              "      background-color: #E2EBFA;\n",
              "      box-shadow: 0px 1px 2px rgba(60, 64, 67, 0.3), 0px 1px 3px 1px rgba(60, 64, 67, 0.15);\n",
              "      fill: #174EA6;\n",
              "    }\n",
              "\n",
              "    [theme=dark] .colab-df-convert {\n",
              "      background-color: #3B4455;\n",
              "      fill: #D2E3FC;\n",
              "    }\n",
              "\n",
              "    [theme=dark] .colab-df-convert:hover {\n",
              "      background-color: #434B5C;\n",
              "      box-shadow: 0px 1px 3px 1px rgba(0, 0, 0, 0.15);\n",
              "      filter: drop-shadow(0px 1px 2px rgba(0, 0, 0, 0.3));\n",
              "      fill: #FFFFFF;\n",
              "    }\n",
              "  </style>\n",
              "\n",
              "      <script>\n",
              "        const buttonEl =\n",
              "          document.querySelector('#df-a8e728da-55d1-49b5-9188-ba7b0352ae38 button.colab-df-convert');\n",
              "        buttonEl.style.display =\n",
              "          google.colab.kernel.accessAllowed ? 'block' : 'none';\n",
              "\n",
              "        async function convertToInteractive(key) {\n",
              "          const element = document.querySelector('#df-a8e728da-55d1-49b5-9188-ba7b0352ae38');\n",
              "          const dataTable =\n",
              "            await google.colab.kernel.invokeFunction('convertToInteractive',\n",
              "                                                     [key], {});\n",
              "          if (!dataTable) return;\n",
              "\n",
              "          const docLinkHtml = 'Like what you see? Visit the ' +\n",
              "            '<a target=\"_blank\" href=https://colab.research.google.com/notebooks/data_table.ipynb>data table notebook</a>'\n",
              "            + ' to learn more about interactive tables.';\n",
              "          element.innerHTML = '';\n",
              "          dataTable['output_type'] = 'display_data';\n",
              "          await google.colab.output.renderOutput(dataTable, element);\n",
              "          const docLink = document.createElement('div');\n",
              "          docLink.innerHTML = docLinkHtml;\n",
              "          element.appendChild(docLink);\n",
              "        }\n",
              "      </script>\n",
              "    </div>\n",
              "  </div>\n",
              "  "
            ]
          },
          "metadata": {},
          "execution_count": 38
        }
      ]
    },
    {
      "cell_type": "code",
      "source": [
        "# Aplica o pré-processamento em cada texto da base de teste\n",
        "base_teste['texto'] = base_teste['texto'].apply(preprocessamento)\n",
        "\n",
        "# Exibe as primeiras linhas da base de teste após a aplicação do pré-processamento\n",
        "base_teste.head()\n"
      ],
      "metadata": {
        "id": "QYQMN-nvOpDM",
        "outputId": "e64fc226-68c3-4ef1-f73f-a537f91787a5",
        "colab": {
          "base_uri": "https://localhost:8080/",
          "height": 206
        }
      },
      "execution_count": 39,
      "outputs": [
        {
          "output_type": "execute_result",
          "data": {
            "text/plain": [
              "                                     texto    emocao\n",
              "0            não precisar pagar o ingresso  positivo\n",
              "1             se eu ajeitar tudo ficar bem  positivo\n",
              "2            meu fortuna ultrapassar o seu  positivo\n",
              "3                      ser muito afortunar  positivo\n",
              "4  ser benéfico para todo este novo medida  positivo"
            ],
            "text/html": [
              "\n",
              "  <div id=\"df-31418df2-fb6f-41d0-8c06-a408a0a19ee0\">\n",
              "    <div class=\"colab-df-container\">\n",
              "      <div>\n",
              "<style scoped>\n",
              "    .dataframe tbody tr th:only-of-type {\n",
              "        vertical-align: middle;\n",
              "    }\n",
              "\n",
              "    .dataframe tbody tr th {\n",
              "        vertical-align: top;\n",
              "    }\n",
              "\n",
              "    .dataframe thead th {\n",
              "        text-align: right;\n",
              "    }\n",
              "</style>\n",
              "<table border=\"1\" class=\"dataframe\">\n",
              "  <thead>\n",
              "    <tr style=\"text-align: right;\">\n",
              "      <th></th>\n",
              "      <th>texto</th>\n",
              "      <th>emocao</th>\n",
              "    </tr>\n",
              "  </thead>\n",
              "  <tbody>\n",
              "    <tr>\n",
              "      <th>0</th>\n",
              "      <td>não precisar pagar o ingresso</td>\n",
              "      <td>positivo</td>\n",
              "    </tr>\n",
              "    <tr>\n",
              "      <th>1</th>\n",
              "      <td>se eu ajeitar tudo ficar bem</td>\n",
              "      <td>positivo</td>\n",
              "    </tr>\n",
              "    <tr>\n",
              "      <th>2</th>\n",
              "      <td>meu fortuna ultrapassar o seu</td>\n",
              "      <td>positivo</td>\n",
              "    </tr>\n",
              "    <tr>\n",
              "      <th>3</th>\n",
              "      <td>ser muito afortunar</td>\n",
              "      <td>positivo</td>\n",
              "    </tr>\n",
              "    <tr>\n",
              "      <th>4</th>\n",
              "      <td>ser benéfico para todo este novo medida</td>\n",
              "      <td>positivo</td>\n",
              "    </tr>\n",
              "  </tbody>\n",
              "</table>\n",
              "</div>\n",
              "      <button class=\"colab-df-convert\" onclick=\"convertToInteractive('df-31418df2-fb6f-41d0-8c06-a408a0a19ee0')\"\n",
              "              title=\"Convert this dataframe to an interactive table.\"\n",
              "              style=\"display:none;\">\n",
              "        \n",
              "  <svg xmlns=\"http://www.w3.org/2000/svg\" height=\"24px\"viewBox=\"0 0 24 24\"\n",
              "       width=\"24px\">\n",
              "    <path d=\"M0 0h24v24H0V0z\" fill=\"none\"/>\n",
              "    <path d=\"M18.56 5.44l.94 2.06.94-2.06 2.06-.94-2.06-.94-.94-2.06-.94 2.06-2.06.94zm-11 1L8.5 8.5l.94-2.06 2.06-.94-2.06-.94L8.5 2.5l-.94 2.06-2.06.94zm10 10l.94 2.06.94-2.06 2.06-.94-2.06-.94-.94-2.06-.94 2.06-2.06.94z\"/><path d=\"M17.41 7.96l-1.37-1.37c-.4-.4-.92-.59-1.43-.59-.52 0-1.04.2-1.43.59L10.3 9.45l-7.72 7.72c-.78.78-.78 2.05 0 2.83L4 21.41c.39.39.9.59 1.41.59.51 0 1.02-.2 1.41-.59l7.78-7.78 2.81-2.81c.8-.78.8-2.07 0-2.86zM5.41 20L4 18.59l7.72-7.72 1.47 1.35L5.41 20z\"/>\n",
              "  </svg>\n",
              "      </button>\n",
              "      \n",
              "  <style>\n",
              "    .colab-df-container {\n",
              "      display:flex;\n",
              "      flex-wrap:wrap;\n",
              "      gap: 12px;\n",
              "    }\n",
              "\n",
              "    .colab-df-convert {\n",
              "      background-color: #E8F0FE;\n",
              "      border: none;\n",
              "      border-radius: 50%;\n",
              "      cursor: pointer;\n",
              "      display: none;\n",
              "      fill: #1967D2;\n",
              "      height: 32px;\n",
              "      padding: 0 0 0 0;\n",
              "      width: 32px;\n",
              "    }\n",
              "\n",
              "    .colab-df-convert:hover {\n",
              "      background-color: #E2EBFA;\n",
              "      box-shadow: 0px 1px 2px rgba(60, 64, 67, 0.3), 0px 1px 3px 1px rgba(60, 64, 67, 0.15);\n",
              "      fill: #174EA6;\n",
              "    }\n",
              "\n",
              "    [theme=dark] .colab-df-convert {\n",
              "      background-color: #3B4455;\n",
              "      fill: #D2E3FC;\n",
              "    }\n",
              "\n",
              "    [theme=dark] .colab-df-convert:hover {\n",
              "      background-color: #434B5C;\n",
              "      box-shadow: 0px 1px 3px 1px rgba(0, 0, 0, 0.15);\n",
              "      filter: drop-shadow(0px 1px 2px rgba(0, 0, 0, 0.3));\n",
              "      fill: #FFFFFF;\n",
              "    }\n",
              "  </style>\n",
              "\n",
              "      <script>\n",
              "        const buttonEl =\n",
              "          document.querySelector('#df-31418df2-fb6f-41d0-8c06-a408a0a19ee0 button.colab-df-convert');\n",
              "        buttonEl.style.display =\n",
              "          google.colab.kernel.accessAllowed ? 'block' : 'none';\n",
              "\n",
              "        async function convertToInteractive(key) {\n",
              "          const element = document.querySelector('#df-31418df2-fb6f-41d0-8c06-a408a0a19ee0');\n",
              "          const dataTable =\n",
              "            await google.colab.kernel.invokeFunction('convertToInteractive',\n",
              "                                                     [key], {});\n",
              "          if (!dataTable) return;\n",
              "\n",
              "          const docLinkHtml = 'Like what you see? Visit the ' +\n",
              "            '<a target=\"_blank\" href=https://colab.research.google.com/notebooks/data_table.ipynb>data table notebook</a>'\n",
              "            + ' to learn more about interactive tables.';\n",
              "          element.innerHTML = '';\n",
              "          dataTable['output_type'] = 'display_data';\n",
              "          await google.colab.output.renderOutput(dataTable, element);\n",
              "          const docLink = document.createElement('div');\n",
              "          docLink.innerHTML = docLinkHtml;\n",
              "          element.appendChild(docLink);\n",
              "        }\n",
              "      </script>\n",
              "    </div>\n",
              "  </div>\n",
              "  "
            ]
          },
          "metadata": {},
          "execution_count": 39
        }
      ]
    },
    {
      "cell_type": "code",
      "source": [
        "# Cria uma lista vazia 'previsoes' para armazenar os scores das previsões\n",
        "\n",
        "previsoes = []\n",
        "\n",
        "# Itera sobre cada texto da coluna 'texto' da base de teste\n",
        "for texto in base_teste['texto']:\n",
        "    # Realiza a previsão utilizando o modelo carregado ('modelo_carregado')\n",
        "    previsao = modelo_carregado(texto)\n",
        "    \n",
        "    # Adiciona os scores da previsão à lista 'previsoes'\n",
        "    previsoes.append(previsao.cats)\n"
      ],
      "metadata": {
        "id": "t6znyV_EOZOk"
      },
      "execution_count": 40,
      "outputs": []
    },
    {
      "cell_type": "code",
      "source": [
        "# Cria uma lista vazia 'previsoes_final' para armazenar as categorizações finais (positivo ou negativo)\n",
        "\n",
        "previsoes_final = []\n",
        "\n",
        "# Itera sobre cada previsão na lista 'previsoes'\n",
        "for previsao in previsoes:\n",
        "    # Verifica se o score da categoria 'POSITIVO' é maior que o score da categoria 'NEGATIVO'\n",
        "    if previsao['POSITIVO'] > previsao['NEGATIVO']:\n",
        "        # Se o score de 'POSITIVO' for maior, adiciona a categoria 'positivo' à lista 'previsoes_final'\n",
        "        previsoes_final.append('positivo')\n",
        "    else: \n",
        "        # Caso contrário, adiciona a categoria 'negativo' à lista 'previsoes_final'\n",
        "        previsoes_final.append('negativo')\n",
        "\n",
        "# Converte a lista 'previsoes_final' em um array numpy para facilitar a manipulação\n",
        "previsoes_final = np.array(previsoes_final)\n",
        "previsoes_final\n"
      ],
      "metadata": {
        "id": "1LFhGy_OPP_m",
        "outputId": "da061d25-66fc-4bb7-ff51-bf5be178ada1",
        "colab": {
          "base_uri": "https://localhost:8080/"
        }
      },
      "execution_count": 41,
      "outputs": [
        {
          "output_type": "execute_result",
          "data": {
            "text/plain": [
              "array(['negativo', 'positivo', 'positivo', 'positivo', 'positivo',\n",
              "       'negativo', 'negativo', 'positivo', 'positivo', 'positivo',\n",
              "       'positivo', 'negativo', 'positivo', 'positivo', 'positivo',\n",
              "       'positivo', 'positivo', 'positivo', 'positivo', 'positivo',\n",
              "       'positivo', 'negativo', 'negativo', 'positivo', 'negativo',\n",
              "       'positivo', 'positivo', 'negativo', 'negativo', 'positivo',\n",
              "       'positivo', 'positivo', 'positivo', 'positivo', 'positivo',\n",
              "       'positivo', 'positivo', 'positivo', 'positivo', 'positivo',\n",
              "       'positivo', 'negativo', 'positivo', 'positivo', 'positivo',\n",
              "       'negativo', 'positivo', 'negativo', 'negativo', 'positivo',\n",
              "       'negativo', 'negativo', 'positivo', 'positivo', 'negativo',\n",
              "       'negativo', 'negativo', 'positivo', 'positivo', 'negativo',\n",
              "       'positivo', 'positivo', 'positivo', 'positivo', 'positivo',\n",
              "       'negativo', 'positivo', 'positivo', 'positivo', 'positivo',\n",
              "       'positivo', 'negativo', 'positivo', 'negativo', 'positivo',\n",
              "       'positivo', 'positivo', 'negativo', 'negativo', 'positivo',\n",
              "       'positivo', 'positivo', 'positivo', 'negativo'], dtype='<U8')"
            ]
          },
          "metadata": {},
          "execution_count": 41
        }
      ]
    },
    {
      "cell_type": "code",
      "source": [
        "# Obtém as respostas reais da coluna 'emocao' da base de teste\n",
        "\n",
        "respostas_reais = base_teste['emocao'].values\n"
      ],
      "metadata": {
        "id": "PrEiMoWjPmyw"
      },
      "execution_count": 42,
      "outputs": []
    },
    {
      "cell_type": "code",
      "source": [
        "respostas_reais"
      ],
      "metadata": {
        "id": "t4exWfW7PqPb",
        "outputId": "84536c26-9593-4f71-9e64-9c47c953c52a",
        "colab": {
          "base_uri": "https://localhost:8080/"
        }
      },
      "execution_count": 43,
      "outputs": [
        {
          "output_type": "execute_result",
          "data": {
            "text/plain": [
              "array(['positivo', 'positivo', 'positivo', 'positivo', 'positivo',\n",
              "       'positivo', 'positivo', 'positivo', 'positivo', 'positivo',\n",
              "       'positivo', 'positivo', 'positivo', 'positivo', 'positivo',\n",
              "       'positivo', 'positivo', 'positivo', 'positivo', 'positivo',\n",
              "       'positivo', 'positivo', 'positivo', 'positivo', 'positivo',\n",
              "       'positivo', 'positivo', 'positivo', 'positivo', 'positivo',\n",
              "       'positivo', 'positivo', 'positivo', 'positivo', 'positivo',\n",
              "       'positivo', 'positivo', 'positivo', 'positivo', 'positivo',\n",
              "       'positivo', 'positivo', 'positivo', 'positivo', 'positivo',\n",
              "       'positivo', 'positivo', 'positivo', 'negativo', 'negativo',\n",
              "       'negativo', 'negativo', 'negativo', 'negativo', 'negativo',\n",
              "       'negativo', 'negativo', 'negativo', 'negativo', 'negativo',\n",
              "       'negativo', 'negativo', 'negativo', 'negativo', 'negativo',\n",
              "       'negativo', 'negativo', 'negativo', 'negativo', 'negativo',\n",
              "       'negativo', 'negativo', 'negativo', 'negativo', 'negativo',\n",
              "       'negativo', 'negativo', 'negativo', 'negativo', 'negativo',\n",
              "       'negativo', 'negativo', 'negativo', 'negativo'], dtype=object)"
            ]
          },
          "metadata": {},
          "execution_count": 43
        }
      ]
    },
    {
      "cell_type": "code",
      "source": [
        "# Calcula a acurácia somente se o número de amostras for consistente\n",
        "accuracy_score(respostas_reais, previsoes_final)\n"
      ],
      "metadata": {
        "id": "9vxkPtxePz8P",
        "outputId": "28fa49c1-f14d-4cd2-959b-2ae73598320e",
        "colab": {
          "base_uri": "https://localhost:8080/"
        }
      },
      "execution_count": 48,
      "outputs": [
        {
          "output_type": "execute_result",
          "data": {
            "text/plain": [
              "0.5833333333333334"
            ]
          },
          "metadata": {},
          "execution_count": 48
        }
      ]
    }
  ],
  "metadata": {
    "colab": {
      "provenance": [],
      "include_colab_link": true
    },
    "kernelspec": {
      "display_name": "Python 3",
      "name": "python3"
    }
  },
  "nbformat": 4,
  "nbformat_minor": 0
}